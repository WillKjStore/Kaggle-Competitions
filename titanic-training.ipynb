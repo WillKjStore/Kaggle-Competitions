{
 "cells": [
  {
   "cell_type": "code",
   "execution_count": 1,
   "id": "d7c579cf",
   "metadata": {
    "_cell_guid": "b1076dfc-b9ad-4769-8c92-a6c4dae69d19",
    "_uuid": "8f2839f25d086af736a60e9eeb907d3b93b6e0e5",
    "execution": {
     "iopub.execute_input": "2022-07-28T18:36:38.856607Z",
     "iopub.status.busy": "2022-07-28T18:36:38.855309Z",
     "iopub.status.idle": "2022-07-28T18:36:38.869765Z",
     "shell.execute_reply": "2022-07-28T18:36:38.868840Z"
    },
    "papermill": {
     "duration": 0.034613,
     "end_time": "2022-07-28T18:36:38.872700",
     "exception": false,
     "start_time": "2022-07-28T18:36:38.838087",
     "status": "completed"
    },
    "tags": []
   },
   "outputs": [
    {
     "name": "stdout",
     "output_type": "stream",
     "text": [
      "/kaggle/input/titanic/train.csv\n",
      "/kaggle/input/titanic/test.csv\n",
      "/kaggle/input/titanic/gender_submission.csv\n"
     ]
    }
   ],
   "source": [
    "# This Python 3 environment comes with many helpful analytics libraries installed\n",
    "# It is defined by the kaggle/python Docker image: https://github.com/kaggle/docker-python\n",
    "# For example, here's several helpful packages to load\n",
    "\n",
    "import numpy as np # linear algebra\n",
    "import pandas as pd # data processing, CSV file I/O (e.g. pd.read_csv)\n",
    "\n",
    "# Input data files are available in the read-only \"../input/\" directory\n",
    "# For example, running this (by clicking run or pressing Shift+Enter) will list all files under the input directory\n",
    "\n",
    "import os\n",
    "for dirname, _, filenames in os.walk('/kaggle/input'):\n",
    "    for filename in filenames:\n",
    "        print(os.path.join(dirname, filename))\n",
    "\n",
    "# You can write up to 20GB to the current directory (/kaggle/working/) that gets preserved as output when you create a version using \"Save & Run All\" \n",
    "# You can also write temporary files to /kaggle/temp/, but they won't be saved outside of the current session"
   ]
  },
  {
   "cell_type": "code",
   "execution_count": 2,
   "id": "93cf36c9",
   "metadata": {
    "execution": {
     "iopub.execute_input": "2022-07-28T18:36:38.905785Z",
     "iopub.status.busy": "2022-07-28T18:36:38.904560Z",
     "iopub.status.idle": "2022-07-28T18:36:39.958427Z",
     "shell.execute_reply": "2022-07-28T18:36:39.957303Z"
    },
    "papermill": {
     "duration": 1.073239,
     "end_time": "2022-07-28T18:36:39.961082",
     "exception": false,
     "start_time": "2022-07-28T18:36:38.887843",
     "status": "completed"
    },
    "tags": []
   },
   "outputs": [],
   "source": [
    "%matplotlib inline\n",
    "import numpy as np\n",
    "import pandas as pd\n",
    "import matplotlib.pyplot as plt\n",
    "import seaborn as sns\n"
   ]
  },
  {
   "cell_type": "code",
   "execution_count": 3,
   "id": "dc8bc0bb",
   "metadata": {
    "execution": {
     "iopub.execute_input": "2022-07-28T18:36:39.991306Z",
     "iopub.status.busy": "2022-07-28T18:36:39.990925Z",
     "iopub.status.idle": "2022-07-28T18:36:40.034989Z",
     "shell.execute_reply": "2022-07-28T18:36:40.033835Z"
    },
    "papermill": {
     "duration": 0.061729,
     "end_time": "2022-07-28T18:36:40.037376",
     "exception": false,
     "start_time": "2022-07-28T18:36:39.975647",
     "status": "completed"
    },
    "tags": []
   },
   "outputs": [
    {
     "name": "stdout",
     "output_type": "stream",
     "text": [
      "   PassengerId  Survived  Pclass  \\\n",
      "0            1         0       3   \n",
      "1            2         1       1   \n",
      "2            3         1       3   \n",
      "3            4         1       1   \n",
      "4            5         0       3   \n",
      "\n",
      "                                                Name     Sex   Age  SibSp  \\\n",
      "0                            Braund, Mr. Owen Harris    male  22.0      1   \n",
      "1  Cumings, Mrs. John Bradley (Florence Briggs Th...  female  38.0      1   \n",
      "2                             Heikkinen, Miss. Laina  female  26.0      0   \n",
      "3       Futrelle, Mrs. Jacques Heath (Lily May Peel)  female  35.0      1   \n",
      "4                           Allen, Mr. William Henry    male  35.0      0   \n",
      "\n",
      "   Parch            Ticket     Fare Cabin Embarked  \n",
      "0      0         A/5 21171   7.2500   NaN        S  \n",
      "1      0          PC 17599  71.2833   C85        C  \n",
      "2      0  STON/O2. 3101282   7.9250   NaN        S  \n",
      "3      0            113803  53.1000  C123        S  \n",
      "4      0            373450   8.0500   NaN        S  \n",
      "\n",
      "\n",
      "\n",
      "\n",
      "   PassengerId  Pclass                                          Name     Sex  \\\n",
      "0          892       3                              Kelly, Mr. James    male   \n",
      "1          893       3              Wilkes, Mrs. James (Ellen Needs)  female   \n",
      "2          894       2                     Myles, Mr. Thomas Francis    male   \n",
      "3          895       3                              Wirz, Mr. Albert    male   \n",
      "4          896       3  Hirvonen, Mrs. Alexander (Helga E Lindqvist)  female   \n",
      "\n",
      "    Age  SibSp  Parch   Ticket     Fare Cabin Embarked  \n",
      "0  34.5      0      0   330911   7.8292   NaN        Q  \n",
      "1  47.0      1      0   363272   7.0000   NaN        S  \n",
      "2  62.0      0      0   240276   9.6875   NaN        Q  \n",
      "3  27.0      0      0   315154   8.6625   NaN        S  \n",
      "4  22.0      1      1  3101298  12.2875   NaN        S  \n"
     ]
    }
   ],
   "source": [
    "train = pd.read_csv('/kaggle/input/titanic/train.csv')\n",
    "test = pd.read_csv('/kaggle/input/titanic/test.csv')\n",
    "sub_format = pd.read_csv('/kaggle/input/titanic/gender_submission.csv')\n",
    "print(train.head())\n",
    "print('\\n')\n",
    "print('\\n')\n",
    "print(test.head())"
   ]
  },
  {
   "cell_type": "code",
   "execution_count": 4,
   "id": "ca85a4cc",
   "metadata": {
    "execution": {
     "iopub.execute_input": "2022-07-28T18:36:40.066943Z",
     "iopub.status.busy": "2022-07-28T18:36:40.066324Z",
     "iopub.status.idle": "2022-07-28T18:36:40.072121Z",
     "shell.execute_reply": "2022-07-28T18:36:40.071075Z"
    },
    "papermill": {
     "duration": 0.023529,
     "end_time": "2022-07-28T18:36:40.074771",
     "exception": false,
     "start_time": "2022-07-28T18:36:40.051242",
     "status": "completed"
    },
    "tags": []
   },
   "outputs": [
    {
     "name": "stdout",
     "output_type": "stream",
     "text": [
      "(891, 12)\n",
      "\n",
      "\n",
      "\n",
      "\n",
      "(418, 11)\n"
     ]
    }
   ],
   "source": [
    "print(train.shape)\n",
    "print('\\n')\n",
    "print('\\n')\n",
    "print(test.shape)"
   ]
  },
  {
   "cell_type": "code",
   "execution_count": 5,
   "id": "b9d6fa76",
   "metadata": {
    "execution": {
     "iopub.execute_input": "2022-07-28T18:36:40.104449Z",
     "iopub.status.busy": "2022-07-28T18:36:40.104106Z",
     "iopub.status.idle": "2022-07-28T18:36:40.113246Z",
     "shell.execute_reply": "2022-07-28T18:36:40.112298Z"
    },
    "papermill": {
     "duration": 0.026674,
     "end_time": "2022-07-28T18:36:40.115511",
     "exception": false,
     "start_time": "2022-07-28T18:36:40.088837",
     "status": "completed"
    },
    "tags": []
   },
   "outputs": [
    {
     "name": "stdout",
     "output_type": "stream",
     "text": [
      "PassengerId      0\n",
      "Survived         0\n",
      "Pclass           0\n",
      "Name             0\n",
      "Sex              0\n",
      "Age            177\n",
      "SibSp            0\n",
      "Parch            0\n",
      "Ticket           0\n",
      "Fare             0\n",
      "Cabin          687\n",
      "Embarked         2\n",
      "dtype: int64\n",
      "\n",
      "\n",
      "\n",
      "\n",
      "PassengerId      0\n",
      "Pclass           0\n",
      "Name             0\n",
      "Sex              0\n",
      "Age             86\n",
      "SibSp            0\n",
      "Parch            0\n",
      "Ticket           0\n",
      "Fare             1\n",
      "Cabin          327\n",
      "Embarked         0\n",
      "dtype: int64\n"
     ]
    }
   ],
   "source": [
    "print(train.isnull().sum())\n",
    "print('\\n')\n",
    "print('\\n')\n",
    "print(test.isnull().sum())"
   ]
  },
  {
   "cell_type": "code",
   "execution_count": 6,
   "id": "6cc8bc36",
   "metadata": {
    "execution": {
     "iopub.execute_input": "2022-07-28T18:36:40.146041Z",
     "iopub.status.busy": "2022-07-28T18:36:40.145506Z",
     "iopub.status.idle": "2022-07-28T18:36:40.327776Z",
     "shell.execute_reply": "2022-07-28T18:36:40.326741Z"
    },
    "papermill": {
     "duration": 0.200069,
     "end_time": "2022-07-28T18:36:40.329966",
     "exception": false,
     "start_time": "2022-07-28T18:36:40.129897",
     "status": "completed"
    },
    "tags": []
   },
   "outputs": [
    {
     "data": {
      "image/png": "[encoded data removed]",
      "text/plain": [
       "<Figure size 432x288 with 1 Axes>"
      ]
     },
     "metadata": {
      "needs_background": "light"
     },
     "output_type": "display_data"
    }
   ],
   "source": [
    "sns.countplot(x='Survived', data=train, label='Survived')\n",
    "plt.show()"
   ]
  },
  {
   "cell_type": "code",
   "execution_count": 7,
   "id": "80ff11d0",
   "metadata": {
    "execution": {
     "iopub.execute_input": "2022-07-28T18:36:40.360909Z",
     "iopub.status.busy": "2022-07-28T18:36:40.360221Z",
     "iopub.status.idle": "2022-07-28T18:36:40.369167Z",
     "shell.execute_reply": "2022-07-28T18:36:40.368084Z"
    },
    "papermill": {
     "duration": 0.027329,
     "end_time": "2022-07-28T18:36:40.371582",
     "exception": false,
     "start_time": "2022-07-28T18:36:40.344253",
     "status": "completed"
    },
    "tags": []
   },
   "outputs": [
    {
     "name": "stdout",
     "output_type": "stream",
     "text": [
      "0    549\n",
      "1    342\n",
      "Name: Survived, dtype: int64\n",
      "0    0.616162\n",
      "1    0.383838\n",
      "Name: Survived, dtype: float64\n"
     ]
    }
   ],
   "source": [
    "print(train['Survived'].value_counts())\n",
    "\n",
    "print(train['Survived'].value_counts(normalize=True))"
   ]
  },
  {
   "cell_type": "markdown",
   "id": "1a997b78",
   "metadata": {
    "papermill": {
     "duration": 0.01454,
     "end_time": "2022-07-28T18:36:40.401099",
     "exception": false,
     "start_time": "2022-07-28T18:36:40.386559",
     "status": "completed"
    },
    "tags": []
   },
   "source": [
    "I'm doing to decide the rows i think are more important and perform EDA to see if they are statistically significant to the target variable"
   ]
  },
  {
   "cell_type": "code",
   "execution_count": 8,
   "id": "983a0964",
   "metadata": {
    "execution": {
     "iopub.execute_input": "2022-07-28T18:36:40.432736Z",
     "iopub.status.busy": "2022-07-28T18:36:40.432146Z",
     "iopub.status.idle": "2022-07-28T18:36:40.437883Z",
     "shell.execute_reply": "2022-07-28T18:36:40.437119Z"
    },
    "papermill": {
     "duration": 0.023581,
     "end_time": "2022-07-28T18:36:40.439664",
     "exception": false,
     "start_time": "2022-07-28T18:36:40.416083",
     "status": "completed"
    },
    "tags": []
   },
   "outputs": [
    {
     "data": {
      "text/plain": [
       "Index(['PassengerId', 'Survived', 'Pclass', 'Name', 'Sex', 'Age', 'SibSp',\n",
       "       'Parch', 'Ticket', 'Fare', 'Cabin', 'Embarked'],\n",
       "      dtype='object')"
      ]
     },
     "execution_count": 8,
     "metadata": {},
     "output_type": "execute_result"
    }
   ],
   "source": [
    "train.columns"
   ]
  },
  {
   "cell_type": "code",
   "execution_count": 9,
   "id": "05f39068",
   "metadata": {
    "execution": {
     "iopub.execute_input": "2022-07-28T18:36:40.470882Z",
     "iopub.status.busy": "2022-07-28T18:36:40.470275Z",
     "iopub.status.idle": "2022-07-28T18:36:40.649869Z",
     "shell.execute_reply": "2022-07-28T18:36:40.649027Z"
    },
    "papermill": {
     "duration": 0.197953,
     "end_time": "2022-07-28T18:36:40.651976",
     "exception": false,
     "start_time": "2022-07-28T18:36:40.454023",
     "status": "completed"
    },
    "tags": []
   },
   "outputs": [
    {
     "data": {
      "image/png": "[encoded data removed]",
      "text/plain": [
       "<Figure size 432x288 with 1 Axes>"
      ]
     },
     "metadata": {
      "needs_background": "light"
     },
     "output_type": "display_data"
    }
   ],
   "source": [
    "sns.countplot(x='Pclass', hue='Survived', data=train)\n",
    "plt.show()"
   ]
  },
  {
   "cell_type": "markdown",
   "id": "6ab599d7",
   "metadata": {
    "papermill": {
     "duration": 0.014675,
     "end_time": "2022-07-28T18:36:40.681408",
     "exception": false,
     "start_time": "2022-07-28T18:36:40.666733",
     "status": "completed"
    },
    "tags": []
   },
   "source": [
    "It appears passenger class has an influence on a person's ability to survive as third class passengers were most likely to die and the reverse was the case for first class passengers."
   ]
  },
  {
   "cell_type": "markdown",
   "id": "a6ca20f6",
   "metadata": {
    "papermill": {
     "duration": 0.01445,
     "end_time": "2022-07-28T18:36:40.710512",
     "exception": false,
     "start_time": "2022-07-28T18:36:40.696062",
     "status": "completed"
    },
    "tags": []
   },
   "source": [
    "next is name, but first sex"
   ]
  },
  {
   "cell_type": "code",
   "execution_count": 10,
   "id": "930a0b1d",
   "metadata": {
    "execution": {
     "iopub.execute_input": "2022-07-28T18:36:40.741780Z",
     "iopub.status.busy": "2022-07-28T18:36:40.741381Z",
     "iopub.status.idle": "2022-07-28T18:36:40.907875Z",
     "shell.execute_reply": "2022-07-28T18:36:40.906824Z"
    },
    "papermill": {
     "duration": 0.184798,
     "end_time": "2022-07-28T18:36:40.910131",
     "exception": false,
     "start_time": "2022-07-28T18:36:40.725333",
     "status": "completed"
    },
    "tags": []
   },
   "outputs": [
    {
     "data": {
      "image/png": "[encoded data removed]",
      "text/plain": [
       "<Figure size 432x288 with 1 Axes>"
      ]
     },
     "metadata": {
      "needs_background": "light"
     },
     "output_type": "display_data"
    }
   ],
   "source": [
    "sns.countplot(x='Sex', hue='Survived', data=train)\n",
    "plt.show()"
   ]
  },
  {
   "cell_type": "markdown",
   "id": "8577d84a",
   "metadata": {
    "papermill": {
     "duration": 0.01476,
     "end_time": "2022-07-28T18:36:40.939963",
     "exception": false,
     "start_time": "2022-07-28T18:36:40.925203",
     "status": "completed"
    },
    "tags": []
   },
   "source": [
    "sex has an obvious bearing on survival probability. The titles of each person introduce further class distinction in societal hierachy as it pertains to sex, so we'll use regex to extract that"
   ]
  },
  {
   "cell_type": "code",
   "execution_count": 11,
   "id": "a163683e",
   "metadata": {
    "execution": {
     "iopub.execute_input": "2022-07-28T18:36:40.971686Z",
     "iopub.status.busy": "2022-07-28T18:36:40.970875Z",
     "iopub.status.idle": "2022-07-28T18:36:40.985450Z",
     "shell.execute_reply": "2022-07-28T18:36:40.984236Z"
    },
    "papermill": {
     "duration": 0.033055,
     "end_time": "2022-07-28T18:36:40.987778",
     "exception": false,
     "start_time": "2022-07-28T18:36:40.954723",
     "status": "completed"
    },
    "tags": []
   },
   "outputs": [
    {
     "name": "stdout",
     "output_type": "stream",
     "text": [
      "Mr          517\n",
      "Miss        182\n",
      "Mrs         125\n",
      "Master       40\n",
      "Dr            7\n",
      "Rev           6\n",
      "Mlle          2\n",
      "Major         2\n",
      "Col           2\n",
      "Countess      1\n",
      "Capt          1\n",
      "Ms            1\n",
      "Sir           1\n",
      "Lady          1\n",
      "Mme           1\n",
      "Don           1\n",
      "Jonkheer      1\n",
      "Name: Prefix, dtype: int64\n",
      "Mr        240\n",
      "Miss       78\n",
      "Mrs        72\n",
      "Master     21\n",
      "Col         2\n",
      "Rev         2\n",
      "Ms          1\n",
      "Dr          1\n",
      "Dona        1\n",
      "Name: Prefix, dtype: int64\n"
     ]
    }
   ],
   "source": [
    "combined_data = [train, test]\n",
    "\n",
    "for table in combined_data:\n",
    "    table['Prefix'] = table['Name'].str.extract('([A-Za-z]+)\\.')\n",
    "\n",
    "print(train['Prefix'].value_counts())\n",
    "print(test['Prefix'].value_counts())\n"
   ]
  },
  {
   "cell_type": "markdown",
   "id": "7f0d5242",
   "metadata": {
    "papermill": {
     "duration": 0.014578,
     "end_time": "2022-07-28T18:36:41.017126",
     "exception": false,
     "start_time": "2022-07-28T18:36:41.002548",
     "status": "completed"
    },
    "tags": []
   },
   "source": [
    "i want to map this 2 categories to see if they matter in the long run, married people and titled people.\n",
    "For married people, we encode 1, for unmarried, 2, when we are not sure we input 3\n",
    "For titled people, we encode 2, everybody else gets a 1. Dona is Spanish for 'Mrs', so we'll note that."
   ]
  },
  {
   "cell_type": "code",
   "execution_count": 12,
   "id": "cfa7d53a",
   "metadata": {
    "execution": {
     "iopub.execute_input": "2022-07-28T18:36:41.048968Z",
     "iopub.status.busy": "2022-07-28T18:36:41.048597Z",
     "iopub.status.idle": "2022-07-28T18:36:41.068643Z",
     "shell.execute_reply": "2022-07-28T18:36:41.067514Z"
    },
    "papermill": {
     "duration": 0.038702,
     "end_time": "2022-07-28T18:36:41.070907",
     "exception": false,
     "start_time": "2022-07-28T18:36:41.032205",
     "status": "completed"
    },
    "tags": []
   },
   "outputs": [
    {
     "name": "stdout",
     "output_type": "stream",
     "text": [
      "                                                Name  Prefix  Prefix_marital  \\\n",
      "0                            Braund, Mr. Owen Harris      Mr               1   \n",
      "1  Cumings, Mrs. John Bradley (Florence Briggs Th...     Mrs               1   \n",
      "2                             Heikkinen, Miss. Laina    Miss               2   \n",
      "3       Futrelle, Mrs. Jacques Heath (Lily May Peel)     Mrs               1   \n",
      "4                           Allen, Mr. William Henry      Mr               1   \n",
      "5                                   Moran, Mr. James      Mr               1   \n",
      "6                            McCarthy, Mr. Timothy J      Mr               1   \n",
      "7                     Palsson, Master. Gosta Leonard  Master               2   \n",
      "8  Johnson, Mrs. Oscar W (Elisabeth Vilhelmina Berg)     Mrs               1   \n",
      "9                Nasser, Mrs. Nicholas (Adele Achem)     Mrs               1   \n",
      "\n",
      "   Prefix_title  \n",
      "0             1  \n",
      "1             1  \n",
      "2             1  \n",
      "3             1  \n",
      "4             1  \n",
      "5             1  \n",
      "6             1  \n",
      "7             1  \n",
      "8             1  \n",
      "9             1  \n"
     ]
    }
   ],
   "source": [
    "Titled_mapping = {\"Mr\":1,\"Miss\":1,\"Mrs\":1,\"Master\":1,\"Dr\":2,\"Rev\":2,\"Major\":2,\"Mlle\":2,\"Col\":2,\"Capt\":2,\"Sir\":2,\"Ms\":1,\"Lady\":2,\"Mme\":2,\"Countess\":2,\"Jonkheer\":2,\"Don\":2, 'Dona':1}\n",
    "Married_mapping = {\"Mr\":1,\"Miss\":2,\"Mrs\":1,\"Master\":2,\"Dr\":3,\"Rev\":3,\"Major\":3,\"Mlle\":3,\"Col\":3,\"Capt\":3,\"Sir\":1,\"Ms\":2,\"Lady\":3,\"Mme\":3,\"Countess\":3,\"Jonkheer\":3,\"Don\":3, 'Dona':1}\n",
    "\n",
    "for table in combined_data:\n",
    "    table['Prefix_marital'] = table['Prefix']\n",
    "    table['Prefix_title'] = table['Prefix']\n",
    "    table['Prefix_marital'] = table['Prefix_marital'].map(Married_mapping)\n",
    "    table['Prefix_title'] = table['Prefix_title'].map(Titled_mapping)\n",
    "    \n",
    "print(train[['Name', 'Prefix', 'Prefix_marital', 'Prefix_title']].head(10))"
   ]
  },
  {
   "cell_type": "markdown",
   "id": "0382a9d6",
   "metadata": {
    "papermill": {
     "duration": 0.014975,
     "end_time": "2022-07-28T18:36:41.101033",
     "exception": false,
     "start_time": "2022-07-28T18:36:41.086058",
     "status": "completed"
    },
    "tags": []
   },
   "source": [
    "let's run some EDA now"
   ]
  },
  {
   "cell_type": "code",
   "execution_count": 13,
   "id": "4980cb02",
   "metadata": {
    "execution": {
     "iopub.execute_input": "2022-07-28T18:36:41.133187Z",
     "iopub.status.busy": "2022-07-28T18:36:41.132511Z",
     "iopub.status.idle": "2022-07-28T18:36:41.392591Z",
     "shell.execute_reply": "2022-07-28T18:36:41.391408Z"
    },
    "papermill": {
     "duration": 0.278771,
     "end_time": "2022-07-28T18:36:41.394869",
     "exception": false,
     "start_time": "2022-07-28T18:36:41.116098",
     "status": "completed"
    },
    "tags": []
   },
   "outputs": [
    {
     "data": {
      "image/png": "[encoded data removed]",
      "text/plain": [
       "<Figure size 432x288 with 2 Axes>"
      ]
     },
     "metadata": {
      "needs_background": "light"
     },
     "output_type": "display_data"
    }
   ],
   "source": [
    "fig, ax = plt.subplots(1, 2)\n",
    "sns.countplot(x='Prefix_marital', hue='Survived', data=train, ax=ax[0])\n",
    "sns.countplot(x='Prefix_title', hue='Survived', data=train, ax=ax[1])\n",
    "plt.show()"
   ]
  },
  {
   "cell_type": "markdown",
   "id": "f07a815d",
   "metadata": {
    "papermill": {
     "duration": 0.015109,
     "end_time": "2022-07-28T18:36:41.425293",
     "exception": false,
     "start_time": "2022-07-28T18:36:41.410184",
     "status": "completed"
    },
    "tags": []
   },
   "source": [
    "Marital Status has more impact than title, but we'll leave both. next up, Age"
   ]
  },
  {
   "cell_type": "code",
   "execution_count": 14,
   "id": "19984c73",
   "metadata": {
    "execution": {
     "iopub.execute_input": "2022-07-28T18:36:41.457790Z",
     "iopub.status.busy": "2022-07-28T18:36:41.457432Z",
     "iopub.status.idle": "2022-07-28T18:36:41.811283Z",
     "shell.execute_reply": "2022-07-28T18:36:41.810198Z"
    },
    "papermill": {
     "duration": 0.372885,
     "end_time": "2022-07-28T18:36:41.813723",
     "exception": false,
     "start_time": "2022-07-28T18:36:41.440838",
     "status": "completed"
    },
    "tags": []
   },
   "outputs": [
    {
     "data": {
      "image/png": "[encoded data removed]",
      "text/plain": [
       "<Figure size 1008x504 with 2 Axes>"
      ]
     },
     "metadata": {
      "needs_background": "light"
     },
     "output_type": "display_data"
    }
   ],
   "source": [
    "fig, ax = plt.subplots(1, 2, figsize=(14,7))\n",
    "sns.violinplot(data=train, x='Survived', y='Age', split=True, ax=ax[0])\n",
    "sns.kdeplot(x='Age', hue='Survived', data=train, shade=True, ax=ax[1])\n",
    "plt.show()"
   ]
  },
  {
   "cell_type": "code",
   "execution_count": 15,
   "id": "0e087475",
   "metadata": {
    "execution": {
     "iopub.execute_input": "2022-07-28T18:36:41.849426Z",
     "iopub.status.busy": "2022-07-28T18:36:41.848376Z",
     "iopub.status.idle": "2022-07-28T18:36:42.103034Z",
     "shell.execute_reply": "2022-07-28T18:36:42.101935Z"
    },
    "papermill": {
     "duration": 0.275506,
     "end_time": "2022-07-28T18:36:42.105848",
     "exception": false,
     "start_time": "2022-07-28T18:36:41.830342",
     "status": "completed"
    },
    "tags": []
   },
   "outputs": [
    {
     "data": {
      "image/png": "[encoded data removed]",
      "text/plain": [
       "<Figure size 1440x432 with 1 Axes>"
      ]
     },
     "metadata": {
      "needs_background": "light"
     },
     "output_type": "display_data"
    }
   ],
   "source": [
    "fig = plt.figure(figsize=(20, 6)) \n",
    "sns.kdeplot(x='Age', hue='Survived', data=train, shade=True)\n",
    "plt.xlim(0,train[\"Age\"].max())\n",
    "plt.show()"
   ]
  },
  {
   "cell_type": "markdown",
   "id": "d72343ee",
   "metadata": {
    "papermill": {
     "duration": 0.016985,
     "end_time": "2022-07-28T18:36:42.139868",
     "exception": false,
     "start_time": "2022-07-28T18:36:42.122883",
     "status": "completed"
    },
    "tags": []
   },
   "source": [
    "It appears age has a large influence but also has a lot of missing values, lets fill this in with respect to the various age groups of the Passenger class, coz we suspect them to have diffrent ranges, and replot"
   ]
  },
  {
   "cell_type": "markdown",
   "id": "0a5e15a7",
   "metadata": {
    "papermill": {
     "duration": 0.016394,
     "end_time": "2022-07-28T18:36:42.173312",
     "exception": false,
     "start_time": "2022-07-28T18:36:42.156918",
     "status": "completed"
    },
    "tags": []
   },
   "source": [
    "intresting piece of code i just learnt"
   ]
  },
  {
   "cell_type": "code",
   "execution_count": 16,
   "id": "fb56d275",
   "metadata": {
    "execution": {
     "iopub.execute_input": "2022-07-28T18:36:42.209763Z",
     "iopub.status.busy": "2022-07-28T18:36:42.209008Z",
     "iopub.status.idle": "2022-07-28T18:36:42.220220Z",
     "shell.execute_reply": "2022-07-28T18:36:42.219316Z"
    },
    "papermill": {
     "duration": 0.032347,
     "end_time": "2022-07-28T18:36:42.222546",
     "exception": false,
     "start_time": "2022-07-28T18:36:42.190199",
     "status": "completed"
    },
    "tags": []
   },
   "outputs": [
    {
     "name": "stdout",
     "output_type": "stream",
     "text": [
      "177\n",
      "86\n",
      "3    491\n",
      "1    216\n",
      "2    184\n",
      "Name: Pclass, dtype: int64\n",
      "Int64Index([  1,   3,   6,  11,  23,  27,  30,  31,  34,  35,\n",
      "            ...\n",
      "            853, 856, 857, 862, 867, 871, 872, 879, 887, 889],\n",
      "           dtype='int64', length=216)\n",
      "   Pclass   Age\n",
      "0       3  22.0\n",
      "1       1  38.0\n",
      "2       3  26.0\n",
      "3       1  35.0\n",
      "4       3  35.0\n",
      "5       3   NaN\n",
      "6       1  54.0\n",
      "7       3   2.0\n",
      "8       3  27.0\n",
      "9       2  14.0\n"
     ]
    }
   ],
   "source": [
    "print(train['Age'].isnull().sum())\n",
    "print(test['Age'].isnull().sum())\n",
    "print(train['Pclass'].value_counts())\n",
    "print(train.groupby('Pclass')['Age'].groups[1])\n",
    "print(train[['Pclass', 'Age']].head(10))"
   ]
  },
  {
   "cell_type": "code",
   "execution_count": 17,
   "id": "672e1d8b",
   "metadata": {
    "execution": {
     "iopub.execute_input": "2022-07-28T18:36:42.258379Z",
     "iopub.status.busy": "2022-07-28T18:36:42.257722Z",
     "iopub.status.idle": "2022-07-28T18:36:42.276958Z",
     "shell.execute_reply": "2022-07-28T18:36:42.275696Z"
    },
    "papermill": {
     "duration": 0.039772,
     "end_time": "2022-07-28T18:36:42.279231",
     "exception": false,
     "start_time": "2022-07-28T18:36:42.239459",
     "status": "completed"
    },
    "tags": []
   },
   "outputs": [
    {
     "name": "stdout",
     "output_type": "stream",
     "text": [
      "0\n",
      "0\n"
     ]
    }
   ],
   "source": [
    "for i, avg in zip([1,2,3], [38, 30, 25]):\n",
    "    class_group = train.groupby('Pclass')['Age'].groups[i]\n",
    "    train.loc[class_group, 'Age'] = train.loc[class_group, 'Age'].fillna(avg)\n",
    "print(train['Age'].isnull().sum())\n",
    "\n",
    "#same for test\n",
    "for i, avg in zip([1,2,3], [38, 30, 25]):\n",
    "    class_group = test.groupby('Pclass')['Age'].groups[i]\n",
    "    test.loc[class_group, 'Age'] = test.loc[class_group, 'Age'].fillna(avg)\n",
    "print(test['Age'].isnull().sum())"
   ]
  },
  {
   "cell_type": "markdown",
   "id": "5e0cd9e5",
   "metadata": {
    "papermill": {
     "duration": 0.016818,
     "end_time": "2022-07-28T18:36:42.313198",
     "exception": false,
     "start_time": "2022-07-28T18:36:42.296380",
     "status": "completed"
    },
    "tags": []
   },
   "source": [
    "let's replot"
   ]
  },
  {
   "cell_type": "code",
   "execution_count": 18,
   "id": "aa63127d",
   "metadata": {
    "execution": {
     "iopub.execute_input": "2022-07-28T18:36:42.349656Z",
     "iopub.status.busy": "2022-07-28T18:36:42.348842Z",
     "iopub.status.idle": "2022-07-28T18:36:42.594575Z",
     "shell.execute_reply": "2022-07-28T18:36:42.593524Z"
    },
    "papermill": {
     "duration": 0.266395,
     "end_time": "2022-07-28T18:36:42.596802",
     "exception": false,
     "start_time": "2022-07-28T18:36:42.330407",
     "status": "completed"
    },
    "tags": []
   },
   "outputs": [
    {
     "data": {
      "image/png": "[encoded data removed]",
      "text/plain": [
       "<Figure size 1440x432 with 1 Axes>"
      ]
     },
     "metadata": {
      "needs_background": "light"
     },
     "output_type": "display_data"
    }
   ],
   "source": [
    "fig = plt.figure(figsize=(20, 6)) \n",
    "sns.kdeplot(x='Age', hue='Survived', data=train, shade=True)\n",
    "plt.xlim(0,train[\"Age\"].max())\n",
    "plt.show()"
   ]
  },
  {
   "cell_type": "code",
   "execution_count": 19,
   "id": "46944dce",
   "metadata": {
    "execution": {
     "iopub.execute_input": "2022-07-28T18:36:42.633945Z",
     "iopub.status.busy": "2022-07-28T18:36:42.633308Z",
     "iopub.status.idle": "2022-07-28T18:36:42.978134Z",
     "shell.execute_reply": "2022-07-28T18:36:42.977343Z"
    },
    "papermill": {
     "duration": 0.365796,
     "end_time": "2022-07-28T18:36:42.980314",
     "exception": false,
     "start_time": "2022-07-28T18:36:42.614518",
     "status": "completed"
    },
    "tags": []
   },
   "outputs": [
    {
     "data": {
      "text/plain": [
       "<seaborn.axisgrid.FacetGrid at 0x7f4f6c611fd0>"
      ]
     },
     "execution_count": 19,
     "metadata": {},
     "output_type": "execute_result"
    },
    {
     "data": {
      "image/png": "[encoded data removed]",
      "text/plain": [
       "<Figure size 1131.88x216 with 1 Axes>"
      ]
     },
     "metadata": {
      "needs_background": "light"
     },
     "output_type": "display_data"
    }
   ],
   "source": [
    "fac = sns.FacetGrid(train,hue = \"Survived\", aspect = 5)\n",
    "fac.map(sns.kdeplot,'Age',shade=True)\n",
    "fac.set(xlim=(0,train[\"Age\"].max()))\n",
    "fac.add_legend()"
   ]
  },
  {
   "cell_type": "markdown",
   "id": "44115a5b",
   "metadata": {
    "papermill": {
     "duration": 0.017804,
     "end_time": "2022-07-28T18:36:43.015980",
     "exception": false,
     "start_time": "2022-07-28T18:36:42.998176",
     "status": "completed"
    },
    "tags": []
   },
   "source": [
    "Next, family values"
   ]
  },
  {
   "cell_type": "code",
   "execution_count": 20,
   "id": "e05e2899",
   "metadata": {
    "execution": {
     "iopub.execute_input": "2022-07-28T18:36:43.054762Z",
     "iopub.status.busy": "2022-07-28T18:36:43.054061Z",
     "iopub.status.idle": "2022-07-28T18:36:43.555316Z",
     "shell.execute_reply": "2022-07-28T18:36:43.554182Z"
    },
    "papermill": {
     "duration": 0.524047,
     "end_time": "2022-07-28T18:36:43.558076",
     "exception": false,
     "start_time": "2022-07-28T18:36:43.034029",
     "status": "completed"
    },
    "tags": []
   },
   "outputs": [
    {
     "data": {
      "image/png": "[encoded data removed]",
      "text/plain": [
       "<Figure size 1008x720 with 3 Axes>"
      ]
     },
     "metadata": {
      "needs_background": "light"
     },
     "output_type": "display_data"
    }
   ],
   "source": [
    "#Agg Sibsp, Parch to Family and plot, also check if the have an effect independently\n",
    "train['Family'] = train['SibSp'] + train['Parch']\n",
    "fig, ax = plt.subplots(3, 1, figsize=(14,10))\n",
    "sns.kdeplot(x='Family', hue='Survived', data=train, shade=True, ax=ax[0])\n",
    "sns.kdeplot(x='Parch', hue='Survived', data=train, shade=True, ax=ax[1])\n",
    "sns.kdeplot(x='SibSp', hue='Survived', data=train, shade=True, ax=ax[2])\n",
    "#sns.countplot(x='Parch', hue='Survived', data='train', ax=ax[2])\n",
    "plt.show()"
   ]
  },
  {
   "cell_type": "markdown",
   "id": "be477db7",
   "metadata": {
    "papermill": {
     "duration": 0.018676,
     "end_time": "2022-07-28T18:36:43.595731",
     "exception": false,
     "start_time": "2022-07-28T18:36:43.577055",
     "status": "completed"
    },
    "tags": []
   },
   "source": [
    "intresting, let's leave only family for now"
   ]
  },
  {
   "cell_type": "code",
   "execution_count": 21,
   "id": "5b58df3e",
   "metadata": {
    "execution": {
     "iopub.execute_input": "2022-07-28T18:36:43.635471Z",
     "iopub.status.busy": "2022-07-28T18:36:43.634765Z",
     "iopub.status.idle": "2022-07-28T18:36:43.641941Z",
     "shell.execute_reply": "2022-07-28T18:36:43.641093Z"
    },
    "papermill": {
     "duration": 0.029485,
     "end_time": "2022-07-28T18:36:43.643968",
     "exception": false,
     "start_time": "2022-07-28T18:36:43.614483",
     "status": "completed"
    },
    "tags": []
   },
   "outputs": [
    {
     "data": {
      "text/plain": [
       "0"
      ]
     },
     "execution_count": 21,
     "metadata": {},
     "output_type": "execute_result"
    }
   ],
   "source": [
    "train['Family'].isnull().sum()"
   ]
  },
  {
   "cell_type": "code",
   "execution_count": 22,
   "id": "e185740f",
   "metadata": {
    "execution": {
     "iopub.execute_input": "2022-07-28T18:36:43.683706Z",
     "iopub.status.busy": "2022-07-28T18:36:43.683030Z",
     "iopub.status.idle": "2022-07-28T18:36:43.691283Z",
     "shell.execute_reply": "2022-07-28T18:36:43.690496Z"
    },
    "papermill": {
     "duration": 0.030309,
     "end_time": "2022-07-28T18:36:43.693252",
     "exception": false,
     "start_time": "2022-07-28T18:36:43.662943",
     "status": "completed"
    },
    "tags": []
   },
   "outputs": [
    {
     "data": {
      "text/plain": [
       "0"
      ]
     },
     "execution_count": 22,
     "metadata": {},
     "output_type": "execute_result"
    }
   ],
   "source": [
    "#same for test\n",
    "test['Family'] = test['SibSp'] + test['Parch']\n",
    "test['Family'].isnull().sum()"
   ]
  },
  {
   "cell_type": "code",
   "execution_count": null,
   "id": "af265dcb",
   "metadata": {
    "papermill": {
     "duration": 0.018682,
     "end_time": "2022-07-28T18:36:43.730659",
     "exception": false,
     "start_time": "2022-07-28T18:36:43.711977",
     "status": "completed"
    },
    "tags": []
   },
   "outputs": [],
   "source": []
  },
  {
   "cell_type": "markdown",
   "id": "212e8a2b",
   "metadata": {
    "papermill": {
     "duration": 0.018762,
     "end_time": "2022-07-28T18:36:43.768501",
     "exception": false,
     "start_time": "2022-07-28T18:36:43.749739",
     "status": "completed"
    },
    "tags": []
   },
   "source": [
    "tickets now"
   ]
  },
  {
   "cell_type": "code",
   "execution_count": 23,
   "id": "525be6ac",
   "metadata": {
    "execution": {
     "iopub.execute_input": "2022-07-28T18:36:43.809257Z",
     "iopub.status.busy": "2022-07-28T18:36:43.808306Z",
     "iopub.status.idle": "2022-07-28T18:36:43.816304Z",
     "shell.execute_reply": "2022-07-28T18:36:43.815476Z"
    },
    "papermill": {
     "duration": 0.030446,
     "end_time": "2022-07-28T18:36:43.818320",
     "exception": false,
     "start_time": "2022-07-28T18:36:43.787874",
     "status": "completed"
    },
    "tags": []
   },
   "outputs": [
    {
     "data": {
      "text/plain": [
       "0           A/5 21171\n",
       "1            PC 17599\n",
       "2    STON/O2. 3101282\n",
       "3              113803\n",
       "4              373450\n",
       "5              330877\n",
       "6               17463\n",
       "7              349909\n",
       "8              347742\n",
       "9              237736\n",
       "Name: Ticket, dtype: object"
      ]
     },
     "execution_count": 23,
     "metadata": {},
     "output_type": "execute_result"
    }
   ],
   "source": [
    "train['Ticket'].head(10)"
   ]
  },
  {
   "cell_type": "markdown",
   "id": "7f168304",
   "metadata": {
    "papermill": {
     "duration": 0.019176,
     "end_time": "2022-07-28T18:36:43.856496",
     "exception": false,
     "start_time": "2022-07-28T18:36:43.837320",
     "status": "completed"
    },
    "tags": []
   },
   "source": [
    "nothing concern me for there, next fare"
   ]
  },
  {
   "cell_type": "code",
   "execution_count": 24,
   "id": "03edad51",
   "metadata": {
    "execution": {
     "iopub.execute_input": "2022-07-28T18:36:43.919406Z",
     "iopub.status.busy": "2022-07-28T18:36:43.919055Z",
     "iopub.status.idle": "2022-07-28T18:36:44.078962Z",
     "shell.execute_reply": "2022-07-28T18:36:44.078213Z"
    },
    "papermill": {
     "duration": 0.183682,
     "end_time": "2022-07-28T18:36:44.081006",
     "exception": false,
     "start_time": "2022-07-28T18:36:43.897324",
     "status": "completed"
    },
    "tags": []
   },
   "outputs": [
    {
     "data": {
      "image/png": "[encoded data removed]",
      "text/plain": [
       "<Figure size 432x288 with 1 Axes>"
      ]
     },
     "metadata": {
      "needs_background": "light"
     },
     "output_type": "display_data"
    }
   ],
   "source": [
    "sns.boxplot(x='Survived', y='Fare', data=train)\n",
    "plt.show()"
   ]
  },
  {
   "cell_type": "code",
   "execution_count": 25,
   "id": "e3f80718",
   "metadata": {
    "execution": {
     "iopub.execute_input": "2022-07-28T18:36:44.123053Z",
     "iopub.status.busy": "2022-07-28T18:36:44.122444Z",
     "iopub.status.idle": "2022-07-28T18:36:44.128247Z",
     "shell.execute_reply": "2022-07-28T18:36:44.127565Z"
    },
    "papermill": {
     "duration": 0.029072,
     "end_time": "2022-07-28T18:36:44.130202",
     "exception": false,
     "start_time": "2022-07-28T18:36:44.101130",
     "status": "completed"
    },
    "tags": []
   },
   "outputs": [
    {
     "data": {
      "text/plain": [
       "1"
      ]
     },
     "execution_count": 25,
     "metadata": {},
     "output_type": "execute_result"
    }
   ],
   "source": [
    "test['Fare'].isnull().sum()"
   ]
  },
  {
   "cell_type": "code",
   "execution_count": 26,
   "id": "ea042078",
   "metadata": {
    "execution": {
     "iopub.execute_input": "2022-07-28T18:36:44.171433Z",
     "iopub.status.busy": "2022-07-28T18:36:44.170782Z",
     "iopub.status.idle": "2022-07-28T18:36:44.179953Z",
     "shell.execute_reply": "2022-07-28T18:36:44.178792Z"
    },
    "papermill": {
     "duration": 0.032306,
     "end_time": "2022-07-28T18:36:44.182163",
     "exception": false,
     "start_time": "2022-07-28T18:36:44.149857",
     "status": "completed"
    },
    "tags": []
   },
   "outputs": [
    {
     "data": {
      "text/plain": [
       "Fare              1.000000\n",
       "Pclass            0.577147\n",
       "Age               0.350422\n",
       "Family            0.249924\n",
       "Parch             0.230046\n",
       "SibSp             0.171539\n",
       "Prefix_title      0.078418\n",
       "Prefix_marital    0.071506\n",
       "PassengerId       0.008211\n",
       "Name: Fare, dtype: float64"
      ]
     },
     "execution_count": 26,
     "metadata": {},
     "output_type": "execute_result"
    }
   ],
   "source": [
    "fare_miss = test['Fare'].isnull()\n",
    "test.corr()['Fare'].transform('abs').sort_values(ascending=False)"
   ]
  },
  {
   "cell_type": "markdown",
   "id": "276604ea",
   "metadata": {
    "papermill": {
     "duration": 0.018846,
     "end_time": "2022-07-28T18:36:44.220515",
     "exception": false,
     "start_time": "2022-07-28T18:36:44.201669",
     "status": "completed"
    },
    "tags": []
   },
   "source": [
    "so, i'll compute the fare by pclass"
   ]
  },
  {
   "cell_type": "code",
   "execution_count": 27,
   "id": "c0a3bf8c",
   "metadata": {
    "execution": {
     "iopub.execute_input": "2022-07-28T18:36:44.261280Z",
     "iopub.status.busy": "2022-07-28T18:36:44.260923Z",
     "iopub.status.idle": "2022-07-28T18:36:44.276671Z",
     "shell.execute_reply": "2022-07-28T18:36:44.275829Z"
    },
    "papermill": {
     "duration": 0.038906,
     "end_time": "2022-07-28T18:36:44.278678",
     "exception": false,
     "start_time": "2022-07-28T18:36:44.239772",
     "status": "completed"
    },
    "tags": []
   },
   "outputs": [
    {
     "data": {
      "text/html": [
       "<div>\n",
       "<style scoped>\n",
       "    .dataframe tbody tr th:only-of-type {\n",
       "        vertical-align: middle;\n",
       "    }\n",
       "\n",
       "    .dataframe tbody tr th {\n",
       "        vertical-align: top;\n",
       "    }\n",
       "\n",
       "    .dataframe thead th {\n",
       "        text-align: right;\n",
       "    }\n",
       "</style>\n",
       "<table border=\"1\" class=\"dataframe\">\n",
       "  <thead>\n",
       "    <tr style=\"text-align: right;\">\n",
       "      <th></th>\n",
       "      <th>median</th>\n",
       "      <th>mean</th>\n",
       "    </tr>\n",
       "    <tr>\n",
       "      <th>Pclass</th>\n",
       "      <th></th>\n",
       "      <th></th>\n",
       "    </tr>\n",
       "  </thead>\n",
       "  <tbody>\n",
       "    <tr>\n",
       "      <th>1</th>\n",
       "      <td>60.0000</td>\n",
       "      <td>94.280297</td>\n",
       "    </tr>\n",
       "    <tr>\n",
       "      <th>2</th>\n",
       "      <td>15.7500</td>\n",
       "      <td>22.202104</td>\n",
       "    </tr>\n",
       "    <tr>\n",
       "      <th>3</th>\n",
       "      <td>7.8958</td>\n",
       "      <td>12.459678</td>\n",
       "    </tr>\n",
       "  </tbody>\n",
       "</table>\n",
       "</div>"
      ],
      "text/plain": [
       "         median       mean\n",
       "Pclass                    \n",
       "1       60.0000  94.280297\n",
       "2       15.7500  22.202104\n",
       "3        7.8958  12.459678"
      ]
     },
     "execution_count": 27,
     "metadata": {},
     "output_type": "execute_result"
    }
   ],
   "source": [
    "test.groupby('Pclass')['Fare'].agg({'mean', 'median'})"
   ]
  },
  {
   "cell_type": "code",
   "execution_count": 28,
   "id": "61d0414f",
   "metadata": {
    "execution": {
     "iopub.execute_input": "2022-07-28T18:36:44.319712Z",
     "iopub.status.busy": "2022-07-28T18:36:44.318875Z",
     "iopub.status.idle": "2022-07-28T18:36:44.334829Z",
     "shell.execute_reply": "2022-07-28T18:36:44.333725Z"
    },
    "papermill": {
     "duration": 0.038852,
     "end_time": "2022-07-28T18:36:44.337138",
     "exception": false,
     "start_time": "2022-07-28T18:36:44.298286",
     "status": "completed"
    },
    "tags": []
   },
   "outputs": [
    {
     "data": {
      "text/html": [
       "<div>\n",
       "<style scoped>\n",
       "    .dataframe tbody tr th:only-of-type {\n",
       "        vertical-align: middle;\n",
       "    }\n",
       "\n",
       "    .dataframe tbody tr th {\n",
       "        vertical-align: top;\n",
       "    }\n",
       "\n",
       "    .dataframe thead th {\n",
       "        text-align: right;\n",
       "    }\n",
       "</style>\n",
       "<table border=\"1\" class=\"dataframe\">\n",
       "  <thead>\n",
       "    <tr style=\"text-align: right;\">\n",
       "      <th></th>\n",
       "      <th>PassengerId</th>\n",
       "      <th>Pclass</th>\n",
       "      <th>Name</th>\n",
       "      <th>Sex</th>\n",
       "      <th>Age</th>\n",
       "      <th>SibSp</th>\n",
       "      <th>Parch</th>\n",
       "      <th>Ticket</th>\n",
       "      <th>Fare</th>\n",
       "      <th>Cabin</th>\n",
       "      <th>Embarked</th>\n",
       "      <th>Prefix</th>\n",
       "      <th>Prefix_marital</th>\n",
       "      <th>Prefix_title</th>\n",
       "      <th>Family</th>\n",
       "    </tr>\n",
       "  </thead>\n",
       "  <tbody>\n",
       "    <tr>\n",
       "      <th>152</th>\n",
       "      <td>1044</td>\n",
       "      <td>3</td>\n",
       "      <td>Storey, Mr. Thomas</td>\n",
       "      <td>male</td>\n",
       "      <td>60.5</td>\n",
       "      <td>0</td>\n",
       "      <td>0</td>\n",
       "      <td>3701</td>\n",
       "      <td>NaN</td>\n",
       "      <td>NaN</td>\n",
       "      <td>S</td>\n",
       "      <td>Mr</td>\n",
       "      <td>1</td>\n",
       "      <td>1</td>\n",
       "      <td>0</td>\n",
       "    </tr>\n",
       "  </tbody>\n",
       "</table>\n",
       "</div>"
      ],
      "text/plain": [
       "     PassengerId  Pclass                Name   Sex   Age  SibSp  Parch Ticket  \\\n",
       "152         1044       3  Storey, Mr. Thomas  male  60.5      0      0   3701   \n",
       "\n",
       "     Fare Cabin Embarked Prefix  Prefix_marital  Prefix_title  Family  \n",
       "152   NaN   NaN        S     Mr               1             1       0  "
      ]
     },
     "execution_count": 28,
     "metadata": {},
     "output_type": "execute_result"
    }
   ],
   "source": [
    "#i'll go with median\n",
    "test.loc[fare_miss]"
   ]
  },
  {
   "cell_type": "code",
   "execution_count": 29,
   "id": "264db9ab",
   "metadata": {
    "execution": {
     "iopub.execute_input": "2022-07-28T18:36:44.378854Z",
     "iopub.status.busy": "2022-07-28T18:36:44.378480Z",
     "iopub.status.idle": "2022-07-28T18:36:44.385953Z",
     "shell.execute_reply": "2022-07-28T18:36:44.384941Z"
    },
    "papermill": {
     "duration": 0.030861,
     "end_time": "2022-07-28T18:36:44.388095",
     "exception": false,
     "start_time": "2022-07-28T18:36:44.357234",
     "status": "completed"
    },
    "tags": []
   },
   "outputs": [
    {
     "data": {
      "text/plain": [
       "0"
      ]
     },
     "execution_count": 29,
     "metadata": {},
     "output_type": "execute_result"
    }
   ],
   "source": [
    "test.loc[fare_miss, 'Fare'] = 7.8958\n",
    "test['Fare'].isnull().sum()"
   ]
  },
  {
   "cell_type": "markdown",
   "id": "3749001b",
   "metadata": {
    "papermill": {
     "duration": 0.019608,
     "end_time": "2022-07-28T18:36:44.427492",
     "exception": false,
     "start_time": "2022-07-28T18:36:44.407884",
     "status": "completed"
    },
    "tags": []
   },
   "source": [
    "based on the median, those that survived paid more than those that died, next, cabin. we'll keep first letter of each cabin and fill in the unknowns with U\n"
   ]
  },
  {
   "cell_type": "code",
   "execution_count": 30,
   "id": "3a418938",
   "metadata": {
    "execution": {
     "iopub.execute_input": "2022-07-28T18:36:44.469282Z",
     "iopub.status.busy": "2022-07-28T18:36:44.468452Z",
     "iopub.status.idle": "2022-07-28T18:36:44.480552Z",
     "shell.execute_reply": "2022-07-28T18:36:44.479803Z"
    },
    "papermill": {
     "duration": 0.034858,
     "end_time": "2022-07-28T18:36:44.482435",
     "exception": false,
     "start_time": "2022-07-28T18:36:44.447577",
     "status": "completed"
    },
    "tags": []
   },
   "outputs": [
    {
     "data": {
      "text/plain": [
       "U    687\n",
       "C     59\n",
       "B     47\n",
       "D     33\n",
       "E     32\n",
       "A     15\n",
       "F     13\n",
       "G      4\n",
       "T      1\n",
       "Name: Cabin, dtype: int64"
      ]
     },
     "execution_count": 30,
     "metadata": {},
     "output_type": "execute_result"
    }
   ],
   "source": [
    "train.loc[~train['Cabin'].isnull(), 'Cabin'] = train[~train['Cabin'].isnull()]['Cabin'].str.slice(stop=1)\n",
    "\n",
    "train.loc[train['Cabin'].isnull(), 'Cabin'] = 'U'\n",
    "\n",
    "train['Cabin'].value_counts()"
   ]
  },
  {
   "cell_type": "code",
   "execution_count": 31,
   "id": "1e5623ca",
   "metadata": {
    "execution": {
     "iopub.execute_input": "2022-07-28T18:36:44.525111Z",
     "iopub.status.busy": "2022-07-28T18:36:44.524105Z",
     "iopub.status.idle": "2022-07-28T18:36:44.536385Z",
     "shell.execute_reply": "2022-07-28T18:36:44.535336Z"
    },
    "papermill": {
     "duration": 0.036031,
     "end_time": "2022-07-28T18:36:44.538419",
     "exception": false,
     "start_time": "2022-07-28T18:36:44.502388",
     "status": "completed"
    },
    "tags": []
   },
   "outputs": [
    {
     "data": {
      "text/plain": [
       "U    327\n",
       "C     35\n",
       "B     18\n",
       "D     13\n",
       "E      9\n",
       "F      8\n",
       "A      7\n",
       "G      1\n",
       "Name: Cabin, dtype: int64"
      ]
     },
     "execution_count": 31,
     "metadata": {},
     "output_type": "execute_result"
    }
   ],
   "source": [
    "#for test\n",
    "test.loc[~test['Cabin'].isnull(), 'Cabin'] = test[~test['Cabin'].isnull()]['Cabin'].str.slice(stop=1)\n",
    "\n",
    "test.loc[test['Cabin'].isnull(), 'Cabin'] = 'U'\n",
    "\n",
    "test['Cabin'].value_counts()"
   ]
  },
  {
   "cell_type": "code",
   "execution_count": 32,
   "id": "6f2b990c",
   "metadata": {
    "execution": {
     "iopub.execute_input": "2022-07-28T18:36:44.580907Z",
     "iopub.status.busy": "2022-07-28T18:36:44.580270Z",
     "iopub.status.idle": "2022-07-28T18:36:44.810884Z",
     "shell.execute_reply": "2022-07-28T18:36:44.809800Z"
    },
    "papermill": {
     "duration": 0.254664,
     "end_time": "2022-07-28T18:36:44.813517",
     "exception": false,
     "start_time": "2022-07-28T18:36:44.558853",
     "status": "completed"
    },
    "tags": []
   },
   "outputs": [
    {
     "data": {
      "image/png": "[encoded data removed]",
      "text/plain": [
       "<Figure size 432x288 with 1 Axes>"
      ]
     },
     "metadata": {
      "needs_background": "light"
     },
     "output_type": "display_data"
    }
   ],
   "source": [
    "sns.countplot(x='Cabin', hue='Survived', data=train)\n",
    "plt.show()"
   ]
  },
  {
   "cell_type": "markdown",
   "id": "597ddccf",
   "metadata": {
    "papermill": {
     "duration": 0.020067,
     "end_time": "2022-07-28T18:36:44.853777",
     "exception": false,
     "start_time": "2022-07-28T18:36:44.833710",
     "status": "completed"
    },
    "tags": []
   },
   "source": [
    "we're keeping it, next embarked"
   ]
  },
  {
   "cell_type": "code",
   "execution_count": 33,
   "id": "6df056b1",
   "metadata": {
    "execution": {
     "iopub.execute_input": "2022-07-28T18:36:44.895713Z",
     "iopub.status.busy": "2022-07-28T18:36:44.895374Z",
     "iopub.status.idle": "2022-07-28T18:36:45.081325Z",
     "shell.execute_reply": "2022-07-28T18:36:45.080223Z"
    },
    "papermill": {
     "duration": 0.209174,
     "end_time": "2022-07-28T18:36:45.083253",
     "exception": false,
     "start_time": "2022-07-28T18:36:44.874079",
     "status": "completed"
    },
    "tags": []
   },
   "outputs": [
    {
     "data": {
      "image/png": "[encoded data removed]",
      "text/plain": [
       "<Figure size 432x288 with 1 Axes>"
      ]
     },
     "metadata": {
      "needs_background": "light"
     },
     "output_type": "display_data"
    }
   ],
   "source": [
    "sns.countplot(x='Embarked', hue='Survived', data=train)\n",
    "plt.show()"
   ]
  },
  {
   "cell_type": "markdown",
   "id": "a875c2cd",
   "metadata": {
    "papermill": {
     "duration": 0.019996,
     "end_time": "2022-07-28T18:36:45.124070",
     "exception": false,
     "start_time": "2022-07-28T18:36:45.104074",
     "status": "completed"
    },
    "tags": []
   },
   "source": [
    "good"
   ]
  },
  {
   "cell_type": "code",
   "execution_count": 34,
   "id": "bf8261d6",
   "metadata": {
    "execution": {
     "iopub.execute_input": "2022-07-28T18:36:45.166617Z",
     "iopub.status.busy": "2022-07-28T18:36:45.165908Z",
     "iopub.status.idle": "2022-07-28T18:36:45.173563Z",
     "shell.execute_reply": "2022-07-28T18:36:45.172042Z"
    },
    "papermill": {
     "duration": 0.032091,
     "end_time": "2022-07-28T18:36:45.176287",
     "exception": false,
     "start_time": "2022-07-28T18:36:45.144196",
     "status": "completed"
    },
    "tags": []
   },
   "outputs": [
    {
     "name": "stdout",
     "output_type": "stream",
     "text": [
      "2\n",
      "0\n"
     ]
    }
   ],
   "source": [
    "print(train['Embarked'].isnull().sum())\n",
    "print(test['Embarked'].isnull().sum())"
   ]
  },
  {
   "cell_type": "code",
   "execution_count": 35,
   "id": "9917ee9b",
   "metadata": {
    "execution": {
     "iopub.execute_input": "2022-07-28T18:36:45.219274Z",
     "iopub.status.busy": "2022-07-28T18:36:45.218565Z",
     "iopub.status.idle": "2022-07-28T18:36:45.235105Z",
     "shell.execute_reply": "2022-07-28T18:36:45.233994Z"
    },
    "papermill": {
     "duration": 0.040322,
     "end_time": "2022-07-28T18:36:45.237266",
     "exception": false,
     "start_time": "2022-07-28T18:36:45.196944",
     "status": "completed"
    },
    "tags": []
   },
   "outputs": [
    {
     "data": {
      "text/html": [
       "<div>\n",
       "<style scoped>\n",
       "    .dataframe tbody tr th:only-of-type {\n",
       "        vertical-align: middle;\n",
       "    }\n",
       "\n",
       "    .dataframe tbody tr th {\n",
       "        vertical-align: top;\n",
       "    }\n",
       "\n",
       "    .dataframe thead th {\n",
       "        text-align: right;\n",
       "    }\n",
       "</style>\n",
       "<table border=\"1\" class=\"dataframe\">\n",
       "  <thead>\n",
       "    <tr style=\"text-align: right;\">\n",
       "      <th></th>\n",
       "      <th>PassengerId</th>\n",
       "      <th>Survived</th>\n",
       "      <th>Pclass</th>\n",
       "      <th>Name</th>\n",
       "      <th>Sex</th>\n",
       "      <th>Age</th>\n",
       "      <th>SibSp</th>\n",
       "      <th>Parch</th>\n",
       "      <th>Ticket</th>\n",
       "      <th>Fare</th>\n",
       "      <th>Cabin</th>\n",
       "      <th>Embarked</th>\n",
       "      <th>Prefix</th>\n",
       "      <th>Prefix_marital</th>\n",
       "      <th>Prefix_title</th>\n",
       "      <th>Family</th>\n",
       "    </tr>\n",
       "  </thead>\n",
       "  <tbody>\n",
       "    <tr>\n",
       "      <th>61</th>\n",
       "      <td>62</td>\n",
       "      <td>1</td>\n",
       "      <td>1</td>\n",
       "      <td>Icard, Miss. Amelie</td>\n",
       "      <td>female</td>\n",
       "      <td>38.0</td>\n",
       "      <td>0</td>\n",
       "      <td>0</td>\n",
       "      <td>113572</td>\n",
       "      <td>80.0</td>\n",
       "      <td>B</td>\n",
       "      <td>NaN</td>\n",
       "      <td>Miss</td>\n",
       "      <td>2</td>\n",
       "      <td>1</td>\n",
       "      <td>0</td>\n",
       "    </tr>\n",
       "    <tr>\n",
       "      <th>829</th>\n",
       "      <td>830</td>\n",
       "      <td>1</td>\n",
       "      <td>1</td>\n",
       "      <td>Stone, Mrs. George Nelson (Martha Evelyn)</td>\n",
       "      <td>female</td>\n",
       "      <td>62.0</td>\n",
       "      <td>0</td>\n",
       "      <td>0</td>\n",
       "      <td>113572</td>\n",
       "      <td>80.0</td>\n",
       "      <td>B</td>\n",
       "      <td>NaN</td>\n",
       "      <td>Mrs</td>\n",
       "      <td>1</td>\n",
       "      <td>1</td>\n",
       "      <td>0</td>\n",
       "    </tr>\n",
       "  </tbody>\n",
       "</table>\n",
       "</div>"
      ],
      "text/plain": [
       "     PassengerId  Survived  Pclass                                       Name  \\\n",
       "61            62         1       1                        Icard, Miss. Amelie   \n",
       "829          830         1       1  Stone, Mrs. George Nelson (Martha Evelyn)   \n",
       "\n",
       "        Sex   Age  SibSp  Parch  Ticket  Fare Cabin Embarked Prefix  \\\n",
       "61   female  38.0      0      0  113572  80.0     B      NaN   Miss   \n",
       "829  female  62.0      0      0  113572  80.0     B      NaN    Mrs   \n",
       "\n",
       "     Prefix_marital  Prefix_title  Family  \n",
       "61                2             1       0  \n",
       "829               1             1       0  "
      ]
     },
     "execution_count": 35,
     "metadata": {},
     "output_type": "execute_result"
    }
   ],
   "source": [
    "them_loss = train['Embarked'].isnull()\n",
    "train[them_loss]"
   ]
  },
  {
   "cell_type": "code",
   "execution_count": 36,
   "id": "9ba99a8d",
   "metadata": {
    "execution": {
     "iopub.execute_input": "2022-07-28T18:36:45.280735Z",
     "iopub.status.busy": "2022-07-28T18:36:45.280381Z",
     "iopub.status.idle": "2022-07-28T18:36:45.458042Z",
     "shell.execute_reply": "2022-07-28T18:36:45.457089Z"
    },
    "papermill": {
     "duration": 0.202441,
     "end_time": "2022-07-28T18:36:45.460457",
     "exception": false,
     "start_time": "2022-07-28T18:36:45.258016",
     "status": "completed"
    },
    "tags": []
   },
   "outputs": [
    {
     "data": {
      "image/png": "[encoded data removed]",
      "text/plain": [
       "<Figure size 432x288 with 1 Axes>"
      ]
     },
     "metadata": {
      "needs_background": "light"
     },
     "output_type": "display_data"
    }
   ],
   "source": [
    "sns.countplot(data=train[(train['Survived']==1) & (train['Sex']=='female') & (train['Age']>=38)], x='Pclass', hue='Embarked')\n",
    "plt.show()"
   ]
  },
  {
   "cell_type": "code",
   "execution_count": 37,
   "id": "53cc5bad",
   "metadata": {
    "execution": {
     "iopub.execute_input": "2022-07-28T18:36:45.504770Z",
     "iopub.status.busy": "2022-07-28T18:36:45.504039Z",
     "iopub.status.idle": "2022-07-28T18:36:45.512109Z",
     "shell.execute_reply": "2022-07-28T18:36:45.511268Z"
    },
    "papermill": {
     "duration": 0.032552,
     "end_time": "2022-07-28T18:36:45.514183",
     "exception": false,
     "start_time": "2022-07-28T18:36:45.481631",
     "status": "completed"
    },
    "tags": []
   },
   "outputs": [
    {
     "data": {
      "text/plain": [
       "0"
      ]
     },
     "execution_count": 37,
     "metadata": {},
     "output_type": "execute_result"
    }
   ],
   "source": [
    "train.loc[them_loss, 'Embarked'] = 'C'\n",
    "train['Embarked'].isnull().sum()"
   ]
  },
  {
   "cell_type": "markdown",
   "id": "dd662379",
   "metadata": {
    "papermill": {
     "duration": 0.021322,
     "end_time": "2022-07-28T18:36:45.557270",
     "exception": false,
     "start_time": "2022-07-28T18:36:45.535948",
     "status": "completed"
    },
    "tags": []
   },
   "source": []
  },
  {
   "cell_type": "code",
   "execution_count": 38,
   "id": "88c3ec1b",
   "metadata": {
    "execution": {
     "iopub.execute_input": "2022-07-28T18:36:45.602512Z",
     "iopub.status.busy": "2022-07-28T18:36:45.601937Z",
     "iopub.status.idle": "2022-07-28T18:36:45.607794Z",
     "shell.execute_reply": "2022-07-28T18:36:45.607018Z"
    },
    "papermill": {
     "duration": 0.030666,
     "end_time": "2022-07-28T18:36:45.609841",
     "exception": false,
     "start_time": "2022-07-28T18:36:45.579175",
     "status": "completed"
    },
    "tags": []
   },
   "outputs": [],
   "source": [
    "X = train.iloc[:, 1:].copy()\n",
    "y = train.iloc[:, 1].copy()"
   ]
  },
  {
   "cell_type": "code",
   "execution_count": 39,
   "id": "a9777aba",
   "metadata": {
    "execution": {
     "iopub.execute_input": "2022-07-28T18:36:45.653612Z",
     "iopub.status.busy": "2022-07-28T18:36:45.653050Z",
     "iopub.status.idle": "2022-07-28T18:36:45.659854Z",
     "shell.execute_reply": "2022-07-28T18:36:45.659016Z"
    },
    "papermill": {
     "duration": 0.03116,
     "end_time": "2022-07-28T18:36:45.661724",
     "exception": false,
     "start_time": "2022-07-28T18:36:45.630564",
     "status": "completed"
    },
    "tags": []
   },
   "outputs": [
    {
     "data": {
      "text/plain": [
       "0    0\n",
       "1    1\n",
       "2    1\n",
       "3    1\n",
       "4    0\n",
       "Name: Survived, dtype: int64"
      ]
     },
     "execution_count": 39,
     "metadata": {},
     "output_type": "execute_result"
    }
   ],
   "source": [
    "y.head()"
   ]
  },
  {
   "cell_type": "code",
   "execution_count": 40,
   "id": "a6dd7b6a",
   "metadata": {
    "execution": {
     "iopub.execute_input": "2022-07-28T18:36:45.705735Z",
     "iopub.status.busy": "2022-07-28T18:36:45.705347Z",
     "iopub.status.idle": "2022-07-28T18:36:45.711671Z",
     "shell.execute_reply": "2022-07-28T18:36:45.710947Z"
    },
    "papermill": {
     "duration": 0.031318,
     "end_time": "2022-07-28T18:36:45.713662",
     "exception": false,
     "start_time": "2022-07-28T18:36:45.682344",
     "status": "completed"
    },
    "tags": []
   },
   "outputs": [
    {
     "data": {
      "text/plain": [
       "Index(['Survived', 'Pclass', 'Name', 'Sex', 'Age', 'SibSp', 'Parch', 'Ticket',\n",
       "       'Fare', 'Cabin', 'Embarked', 'Prefix', 'Prefix_marital', 'Prefix_title',\n",
       "       'Family'],\n",
       "      dtype='object')"
      ]
     },
     "execution_count": 40,
     "metadata": {},
     "output_type": "execute_result"
    }
   ],
   "source": [
    "X.columns"
   ]
  },
  {
   "cell_type": "code",
   "execution_count": 41,
   "id": "a5a7ddc3",
   "metadata": {
    "execution": {
     "iopub.execute_input": "2022-07-28T18:36:45.758030Z",
     "iopub.status.busy": "2022-07-28T18:36:45.757595Z",
     "iopub.status.idle": "2022-07-28T18:36:45.771780Z",
     "shell.execute_reply": "2022-07-28T18:36:45.770815Z"
    },
    "papermill": {
     "duration": 0.039137,
     "end_time": "2022-07-28T18:36:45.773732",
     "exception": false,
     "start_time": "2022-07-28T18:36:45.734595",
     "status": "completed"
    },
    "tags": []
   },
   "outputs": [
    {
     "data": {
      "text/html": [
       "<div>\n",
       "<style scoped>\n",
       "    .dataframe tbody tr th:only-of-type {\n",
       "        vertical-align: middle;\n",
       "    }\n",
       "\n",
       "    .dataframe tbody tr th {\n",
       "        vertical-align: top;\n",
       "    }\n",
       "\n",
       "    .dataframe thead th {\n",
       "        text-align: right;\n",
       "    }\n",
       "</style>\n",
       "<table border=\"1\" class=\"dataframe\">\n",
       "  <thead>\n",
       "    <tr style=\"text-align: right;\">\n",
       "      <th></th>\n",
       "      <th>Pclass</th>\n",
       "      <th>Sex</th>\n",
       "      <th>Age</th>\n",
       "      <th>Fare</th>\n",
       "      <th>Cabin</th>\n",
       "      <th>Embarked</th>\n",
       "      <th>Prefix_marital</th>\n",
       "      <th>Prefix_title</th>\n",
       "      <th>Family</th>\n",
       "    </tr>\n",
       "  </thead>\n",
       "  <tbody>\n",
       "    <tr>\n",
       "      <th>0</th>\n",
       "      <td>3</td>\n",
       "      <td>male</td>\n",
       "      <td>22.0</td>\n",
       "      <td>7.2500</td>\n",
       "      <td>U</td>\n",
       "      <td>S</td>\n",
       "      <td>1</td>\n",
       "      <td>1</td>\n",
       "      <td>1</td>\n",
       "    </tr>\n",
       "    <tr>\n",
       "      <th>1</th>\n",
       "      <td>1</td>\n",
       "      <td>female</td>\n",
       "      <td>38.0</td>\n",
       "      <td>71.2833</td>\n",
       "      <td>C</td>\n",
       "      <td>C</td>\n",
       "      <td>1</td>\n",
       "      <td>1</td>\n",
       "      <td>1</td>\n",
       "    </tr>\n",
       "    <tr>\n",
       "      <th>2</th>\n",
       "      <td>3</td>\n",
       "      <td>female</td>\n",
       "      <td>26.0</td>\n",
       "      <td>7.9250</td>\n",
       "      <td>U</td>\n",
       "      <td>S</td>\n",
       "      <td>2</td>\n",
       "      <td>1</td>\n",
       "      <td>0</td>\n",
       "    </tr>\n",
       "    <tr>\n",
       "      <th>3</th>\n",
       "      <td>1</td>\n",
       "      <td>female</td>\n",
       "      <td>35.0</td>\n",
       "      <td>53.1000</td>\n",
       "      <td>C</td>\n",
       "      <td>S</td>\n",
       "      <td>1</td>\n",
       "      <td>1</td>\n",
       "      <td>1</td>\n",
       "    </tr>\n",
       "    <tr>\n",
       "      <th>4</th>\n",
       "      <td>3</td>\n",
       "      <td>male</td>\n",
       "      <td>35.0</td>\n",
       "      <td>8.0500</td>\n",
       "      <td>U</td>\n",
       "      <td>S</td>\n",
       "      <td>1</td>\n",
       "      <td>1</td>\n",
       "      <td>0</td>\n",
       "    </tr>\n",
       "  </tbody>\n",
       "</table>\n",
       "</div>"
      ],
      "text/plain": [
       "   Pclass     Sex   Age     Fare Cabin Embarked  Prefix_marital  Prefix_title  \\\n",
       "0       3    male  22.0   7.2500     U        S               1             1   \n",
       "1       1  female  38.0  71.2833     C        C               1             1   \n",
       "2       3  female  26.0   7.9250     U        S               2             1   \n",
       "3       1  female  35.0  53.1000     C        S               1             1   \n",
       "4       3    male  35.0   8.0500     U        S               1             1   \n",
       "\n",
       "   Family  \n",
       "0       1  \n",
       "1       1  \n",
       "2       0  \n",
       "3       1  \n",
       "4       0  "
      ]
     },
     "execution_count": 41,
     "metadata": {},
     "output_type": "execute_result"
    }
   ],
   "source": [
    "#let's drop some columns\n",
    "X.drop(columns=['Survived','Name','SibSp', 'Parch','Ticket','Prefix'], inplace=True)\n",
    "X.head()"
   ]
  },
  {
   "cell_type": "code",
   "execution_count": 42,
   "id": "2a6574e6",
   "metadata": {
    "execution": {
     "iopub.execute_input": "2022-07-28T18:36:45.820027Z",
     "iopub.status.busy": "2022-07-28T18:36:45.819377Z",
     "iopub.status.idle": "2022-07-28T18:36:46.302178Z",
     "shell.execute_reply": "2022-07-28T18:36:46.301055Z"
    },
    "papermill": {
     "duration": 0.507667,
     "end_time": "2022-07-28T18:36:46.304315",
     "exception": false,
     "start_time": "2022-07-28T18:36:45.796648",
     "status": "completed"
    },
    "tags": []
   },
   "outputs": [
    {
     "data": {
      "text/html": [
       "<div>\n",
       "<style scoped>\n",
       "    .dataframe tbody tr th:only-of-type {\n",
       "        vertical-align: middle;\n",
       "    }\n",
       "\n",
       "    .dataframe tbody tr th {\n",
       "        vertical-align: top;\n",
       "    }\n",
       "\n",
       "    .dataframe thead th {\n",
       "        text-align: right;\n",
       "    }\n",
       "</style>\n",
       "<table border=\"1\" class=\"dataframe\">\n",
       "  <thead>\n",
       "    <tr style=\"text-align: right;\">\n",
       "      <th></th>\n",
       "      <th>Pclass</th>\n",
       "      <th>Sex_male</th>\n",
       "      <th>Sex_female</th>\n",
       "      <th>Age</th>\n",
       "      <th>Fare</th>\n",
       "      <th>Cabin_U</th>\n",
       "      <th>Cabin_C</th>\n",
       "      <th>Cabin_E</th>\n",
       "      <th>Cabin_G</th>\n",
       "      <th>Cabin_D</th>\n",
       "      <th>Cabin_A</th>\n",
       "      <th>Cabin_B</th>\n",
       "      <th>Cabin_F</th>\n",
       "      <th>Cabin_T</th>\n",
       "      <th>Embarked_S</th>\n",
       "      <th>Embarked_C</th>\n",
       "      <th>Embarked_Q</th>\n",
       "      <th>Prefix_marital</th>\n",
       "      <th>Prefix_title</th>\n",
       "      <th>Family</th>\n",
       "    </tr>\n",
       "  </thead>\n",
       "  <tbody>\n",
       "    <tr>\n",
       "      <th>0</th>\n",
       "      <td>3</td>\n",
       "      <td>1</td>\n",
       "      <td>0</td>\n",
       "      <td>22.0</td>\n",
       "      <td>7.2500</td>\n",
       "      <td>1</td>\n",
       "      <td>0</td>\n",
       "      <td>0</td>\n",
       "      <td>0</td>\n",
       "      <td>0</td>\n",
       "      <td>0</td>\n",
       "      <td>0</td>\n",
       "      <td>0</td>\n",
       "      <td>0</td>\n",
       "      <td>1</td>\n",
       "      <td>0</td>\n",
       "      <td>0</td>\n",
       "      <td>1</td>\n",
       "      <td>1</td>\n",
       "      <td>1</td>\n",
       "    </tr>\n",
       "    <tr>\n",
       "      <th>1</th>\n",
       "      <td>1</td>\n",
       "      <td>0</td>\n",
       "      <td>1</td>\n",
       "      <td>38.0</td>\n",
       "      <td>71.2833</td>\n",
       "      <td>0</td>\n",
       "      <td>1</td>\n",
       "      <td>0</td>\n",
       "      <td>0</td>\n",
       "      <td>0</td>\n",
       "      <td>0</td>\n",
       "      <td>0</td>\n",
       "      <td>0</td>\n",
       "      <td>0</td>\n",
       "      <td>0</td>\n",
       "      <td>1</td>\n",
       "      <td>0</td>\n",
       "      <td>1</td>\n",
       "      <td>1</td>\n",
       "      <td>1</td>\n",
       "    </tr>\n",
       "    <tr>\n",
       "      <th>2</th>\n",
       "      <td>3</td>\n",
       "      <td>0</td>\n",
       "      <td>1</td>\n",
       "      <td>26.0</td>\n",
       "      <td>7.9250</td>\n",
       "      <td>1</td>\n",
       "      <td>0</td>\n",
       "      <td>0</td>\n",
       "      <td>0</td>\n",
       "      <td>0</td>\n",
       "      <td>0</td>\n",
       "      <td>0</td>\n",
       "      <td>0</td>\n",
       "      <td>0</td>\n",
       "      <td>1</td>\n",
       "      <td>0</td>\n",
       "      <td>0</td>\n",
       "      <td>2</td>\n",
       "      <td>1</td>\n",
       "      <td>0</td>\n",
       "    </tr>\n",
       "    <tr>\n",
       "      <th>3</th>\n",
       "      <td>1</td>\n",
       "      <td>0</td>\n",
       "      <td>1</td>\n",
       "      <td>35.0</td>\n",
       "      <td>53.1000</td>\n",
       "      <td>0</td>\n",
       "      <td>1</td>\n",
       "      <td>0</td>\n",
       "      <td>0</td>\n",
       "      <td>0</td>\n",
       "      <td>0</td>\n",
       "      <td>0</td>\n",
       "      <td>0</td>\n",
       "      <td>0</td>\n",
       "      <td>1</td>\n",
       "      <td>0</td>\n",
       "      <td>0</td>\n",
       "      <td>1</td>\n",
       "      <td>1</td>\n",
       "      <td>1</td>\n",
       "    </tr>\n",
       "    <tr>\n",
       "      <th>4</th>\n",
       "      <td>3</td>\n",
       "      <td>1</td>\n",
       "      <td>0</td>\n",
       "      <td>35.0</td>\n",
       "      <td>8.0500</td>\n",
       "      <td>1</td>\n",
       "      <td>0</td>\n",
       "      <td>0</td>\n",
       "      <td>0</td>\n",
       "      <td>0</td>\n",
       "      <td>0</td>\n",
       "      <td>0</td>\n",
       "      <td>0</td>\n",
       "      <td>0</td>\n",
       "      <td>1</td>\n",
       "      <td>0</td>\n",
       "      <td>0</td>\n",
       "      <td>1</td>\n",
       "      <td>1</td>\n",
       "      <td>0</td>\n",
       "    </tr>\n",
       "  </tbody>\n",
       "</table>\n",
       "</div>"
      ],
      "text/plain": [
       "   Pclass  Sex_male  Sex_female   Age     Fare  Cabin_U  Cabin_C  Cabin_E  \\\n",
       "0       3         1           0  22.0   7.2500        1        0        0   \n",
       "1       1         0           1  38.0  71.2833        0        1        0   \n",
       "2       3         0           1  26.0   7.9250        1        0        0   \n",
       "3       1         0           1  35.0  53.1000        0        1        0   \n",
       "4       3         1           0  35.0   8.0500        1        0        0   \n",
       "\n",
       "   Cabin_G  Cabin_D  Cabin_A  Cabin_B  Cabin_F  Cabin_T  Embarked_S  \\\n",
       "0        0        0        0        0        0        0           1   \n",
       "1        0        0        0        0        0        0           0   \n",
       "2        0        0        0        0        0        0           1   \n",
       "3        0        0        0        0        0        0           1   \n",
       "4        0        0        0        0        0        0           1   \n",
       "\n",
       "   Embarked_C  Embarked_Q  Prefix_marital  Prefix_title  Family  \n",
       "0           0           0               1             1       1  \n",
       "1           1           0               1             1       1  \n",
       "2           0           0               2             1       0  \n",
       "3           0           0               1             1       1  \n",
       "4           0           0               1             1       0  "
      ]
     },
     "execution_count": 42,
     "metadata": {},
     "output_type": "execute_result"
    }
   ],
   "source": [
    "import category_encoders as ce \n",
    "ohe = ce.one_hot.OneHotEncoder(use_cat_names=True)\n",
    "X = ohe.fit_transform(X)\n",
    "X.head()"
   ]
  },
  {
   "cell_type": "code",
   "execution_count": 43,
   "id": "f7791e34",
   "metadata": {
    "execution": {
     "iopub.execute_input": "2022-07-28T18:36:46.349017Z",
     "iopub.status.busy": "2022-07-28T18:36:46.348633Z",
     "iopub.status.idle": "2022-07-28T18:36:46.364366Z",
     "shell.execute_reply": "2022-07-28T18:36:46.363550Z"
    },
    "papermill": {
     "duration": 0.040576,
     "end_time": "2022-07-28T18:36:46.366102",
     "exception": false,
     "start_time": "2022-07-28T18:36:46.325526",
     "status": "completed"
    },
    "tags": []
   },
   "outputs": [
    {
     "data": {
      "text/html": [
       "<div>\n",
       "<style scoped>\n",
       "    .dataframe tbody tr th:only-of-type {\n",
       "        vertical-align: middle;\n",
       "    }\n",
       "\n",
       "    .dataframe tbody tr th {\n",
       "        vertical-align: top;\n",
       "    }\n",
       "\n",
       "    .dataframe thead th {\n",
       "        text-align: right;\n",
       "    }\n",
       "</style>\n",
       "<table border=\"1\" class=\"dataframe\">\n",
       "  <thead>\n",
       "    <tr style=\"text-align: right;\">\n",
       "      <th></th>\n",
       "      <th>Pclass</th>\n",
       "      <th>Sex_male</th>\n",
       "      <th>Age</th>\n",
       "      <th>Fare</th>\n",
       "      <th>Cabin_U</th>\n",
       "      <th>Cabin_C</th>\n",
       "      <th>Cabin_E</th>\n",
       "      <th>Cabin_G</th>\n",
       "      <th>Cabin_D</th>\n",
       "      <th>Cabin_A</th>\n",
       "      <th>Cabin_B</th>\n",
       "      <th>Cabin_F</th>\n",
       "      <th>Embarked_S</th>\n",
       "      <th>Embarked_C</th>\n",
       "      <th>Prefix_marital</th>\n",
       "      <th>Prefix_title</th>\n",
       "      <th>Family</th>\n",
       "    </tr>\n",
       "  </thead>\n",
       "  <tbody>\n",
       "    <tr>\n",
       "      <th>0</th>\n",
       "      <td>3</td>\n",
       "      <td>1</td>\n",
       "      <td>22.0</td>\n",
       "      <td>7.2500</td>\n",
       "      <td>1</td>\n",
       "      <td>0</td>\n",
       "      <td>0</td>\n",
       "      <td>0</td>\n",
       "      <td>0</td>\n",
       "      <td>0</td>\n",
       "      <td>0</td>\n",
       "      <td>0</td>\n",
       "      <td>1</td>\n",
       "      <td>0</td>\n",
       "      <td>1</td>\n",
       "      <td>1</td>\n",
       "      <td>1</td>\n",
       "    </tr>\n",
       "    <tr>\n",
       "      <th>1</th>\n",
       "      <td>1</td>\n",
       "      <td>0</td>\n",
       "      <td>38.0</td>\n",
       "      <td>71.2833</td>\n",
       "      <td>0</td>\n",
       "      <td>1</td>\n",
       "      <td>0</td>\n",
       "      <td>0</td>\n",
       "      <td>0</td>\n",
       "      <td>0</td>\n",
       "      <td>0</td>\n",
       "      <td>0</td>\n",
       "      <td>0</td>\n",
       "      <td>1</td>\n",
       "      <td>1</td>\n",
       "      <td>1</td>\n",
       "      <td>1</td>\n",
       "    </tr>\n",
       "    <tr>\n",
       "      <th>2</th>\n",
       "      <td>3</td>\n",
       "      <td>0</td>\n",
       "      <td>26.0</td>\n",
       "      <td>7.9250</td>\n",
       "      <td>1</td>\n",
       "      <td>0</td>\n",
       "      <td>0</td>\n",
       "      <td>0</td>\n",
       "      <td>0</td>\n",
       "      <td>0</td>\n",
       "      <td>0</td>\n",
       "      <td>0</td>\n",
       "      <td>1</td>\n",
       "      <td>0</td>\n",
       "      <td>2</td>\n",
       "      <td>1</td>\n",
       "      <td>0</td>\n",
       "    </tr>\n",
       "    <tr>\n",
       "      <th>3</th>\n",
       "      <td>1</td>\n",
       "      <td>0</td>\n",
       "      <td>35.0</td>\n",
       "      <td>53.1000</td>\n",
       "      <td>0</td>\n",
       "      <td>1</td>\n",
       "      <td>0</td>\n",
       "      <td>0</td>\n",
       "      <td>0</td>\n",
       "      <td>0</td>\n",
       "      <td>0</td>\n",
       "      <td>0</td>\n",
       "      <td>1</td>\n",
       "      <td>0</td>\n",
       "      <td>1</td>\n",
       "      <td>1</td>\n",
       "      <td>1</td>\n",
       "    </tr>\n",
       "    <tr>\n",
       "      <th>4</th>\n",
       "      <td>3</td>\n",
       "      <td>1</td>\n",
       "      <td>35.0</td>\n",
       "      <td>8.0500</td>\n",
       "      <td>1</td>\n",
       "      <td>0</td>\n",
       "      <td>0</td>\n",
       "      <td>0</td>\n",
       "      <td>0</td>\n",
       "      <td>0</td>\n",
       "      <td>0</td>\n",
       "      <td>0</td>\n",
       "      <td>1</td>\n",
       "      <td>0</td>\n",
       "      <td>1</td>\n",
       "      <td>1</td>\n",
       "      <td>0</td>\n",
       "    </tr>\n",
       "  </tbody>\n",
       "</table>\n",
       "</div>"
      ],
      "text/plain": [
       "   Pclass  Sex_male   Age     Fare  Cabin_U  Cabin_C  Cabin_E  Cabin_G  \\\n",
       "0       3         1  22.0   7.2500        1        0        0        0   \n",
       "1       1         0  38.0  71.2833        0        1        0        0   \n",
       "2       3         0  26.0   7.9250        1        0        0        0   \n",
       "3       1         0  35.0  53.1000        0        1        0        0   \n",
       "4       3         1  35.0   8.0500        1        0        0        0   \n",
       "\n",
       "   Cabin_D  Cabin_A  Cabin_B  Cabin_F  Embarked_S  Embarked_C  Prefix_marital  \\\n",
       "0        0        0        0        0           1           0               1   \n",
       "1        0        0        0        0           0           1               1   \n",
       "2        0        0        0        0           1           0               2   \n",
       "3        0        0        0        0           1           0               1   \n",
       "4        0        0        0        0           1           0               1   \n",
       "\n",
       "   Prefix_title  Family  \n",
       "0             1       1  \n",
       "1             1       1  \n",
       "2             1       0  \n",
       "3             1       1  \n",
       "4             1       0  "
      ]
     },
     "execution_count": 43,
     "metadata": {},
     "output_type": "execute_result"
    }
   ],
   "source": [
    "X.drop(columns=['Sex_female', 'Cabin_T', 'Embarked_Q'], inplace=True)\n",
    "X.head()"
   ]
  },
  {
   "cell_type": "code",
   "execution_count": 44,
   "id": "54ce761d",
   "metadata": {
    "execution": {
     "iopub.execute_input": "2022-07-28T18:36:46.411818Z",
     "iopub.status.busy": "2022-07-28T18:36:46.411212Z",
     "iopub.status.idle": "2022-07-28T18:36:46.419047Z",
     "shell.execute_reply": "2022-07-28T18:36:46.418004Z"
    },
    "papermill": {
     "duration": 0.033512,
     "end_time": "2022-07-28T18:36:46.421207",
     "exception": false,
     "start_time": "2022-07-28T18:36:46.387695",
     "status": "completed"
    },
    "tags": []
   },
   "outputs": [
    {
     "name": "stdout",
     "output_type": "stream",
     "text": [
      "(418, 15)\n",
      "PassengerId                    892\n",
      "Pclass                           3\n",
      "Name              Kelly, Mr. James\n",
      "Sex                           male\n",
      "Age                           34.5\n",
      "SibSp                            0\n",
      "Parch                            0\n",
      "Ticket                      330911\n",
      "Fare                        7.8292\n",
      "Cabin                            U\n",
      "Embarked                         Q\n",
      "Prefix                          Mr\n",
      "Prefix_marital                   1\n",
      "Prefix_title                     1\n",
      "Family                           0\n",
      "Name: 0, dtype: object\n",
      "PassengerId                           1309\n",
      "Pclass                                   3\n",
      "Name              Peter, Master. Michael J\n",
      "Sex                                   male\n",
      "Age                                   25.0\n",
      "SibSp                                    1\n",
      "Parch                                    1\n",
      "Ticket                                2668\n",
      "Fare                               22.3583\n",
      "Cabin                                    U\n",
      "Embarked                                 C\n",
      "Prefix                              Master\n",
      "Prefix_marital                           2\n",
      "Prefix_title                             1\n",
      "Family                                   2\n",
      "Name: 417, dtype: object\n"
     ]
    }
   ],
   "source": [
    "print(test.shape)\n",
    "print(test.iloc[0])\n",
    "print(test.iloc[417])"
   ]
  },
  {
   "cell_type": "markdown",
   "id": "2f217941",
   "metadata": {
    "papermill": {
     "duration": 0.02143,
     "end_time": "2022-07-28T18:36:46.464465",
     "exception": false,
     "start_time": "2022-07-28T18:36:46.443035",
     "status": "completed"
    },
    "tags": []
   },
   "source": []
  },
  {
   "cell_type": "code",
   "execution_count": 45,
   "id": "88225219",
   "metadata": {
    "execution": {
     "iopub.execute_input": "2022-07-28T18:36:46.511943Z",
     "iopub.status.busy": "2022-07-28T18:36:46.511563Z",
     "iopub.status.idle": "2022-07-28T18:36:46.538154Z",
     "shell.execute_reply": "2022-07-28T18:36:46.537296Z"
    },
    "papermill": {
     "duration": 0.052679,
     "end_time": "2022-07-28T18:36:46.540121",
     "exception": false,
     "start_time": "2022-07-28T18:36:46.487442",
     "status": "completed"
    },
    "tags": []
   },
   "outputs": [
    {
     "data": {
      "text/html": [
       "<div>\n",
       "<style scoped>\n",
       "    .dataframe tbody tr th:only-of-type {\n",
       "        vertical-align: middle;\n",
       "    }\n",
       "\n",
       "    .dataframe tbody tr th {\n",
       "        vertical-align: top;\n",
       "    }\n",
       "\n",
       "    .dataframe thead th {\n",
       "        text-align: right;\n",
       "    }\n",
       "</style>\n",
       "<table border=\"1\" class=\"dataframe\">\n",
       "  <thead>\n",
       "    <tr style=\"text-align: right;\">\n",
       "      <th></th>\n",
       "      <th>Pclass</th>\n",
       "      <th>Sex_male</th>\n",
       "      <th>Sex_female</th>\n",
       "      <th>Age</th>\n",
       "      <th>Fare</th>\n",
       "      <th>Cabin_U</th>\n",
       "      <th>Cabin_C</th>\n",
       "      <th>Cabin_E</th>\n",
       "      <th>Cabin_G</th>\n",
       "      <th>Cabin_D</th>\n",
       "      <th>Cabin_A</th>\n",
       "      <th>Cabin_B</th>\n",
       "      <th>Cabin_F</th>\n",
       "      <th>Cabin_T</th>\n",
       "      <th>Embarked_S</th>\n",
       "      <th>Embarked_C</th>\n",
       "      <th>Embarked_Q</th>\n",
       "      <th>Prefix_marital</th>\n",
       "      <th>Prefix_title</th>\n",
       "      <th>Family</th>\n",
       "    </tr>\n",
       "  </thead>\n",
       "  <tbody>\n",
       "    <tr>\n",
       "      <th>0</th>\n",
       "      <td>3</td>\n",
       "      <td>1</td>\n",
       "      <td>0</td>\n",
       "      <td>34.5</td>\n",
       "      <td>7.8292</td>\n",
       "      <td>1</td>\n",
       "      <td>0</td>\n",
       "      <td>0</td>\n",
       "      <td>0</td>\n",
       "      <td>0</td>\n",
       "      <td>0</td>\n",
       "      <td>0</td>\n",
       "      <td>0</td>\n",
       "      <td>0</td>\n",
       "      <td>0</td>\n",
       "      <td>0</td>\n",
       "      <td>1</td>\n",
       "      <td>1</td>\n",
       "      <td>1</td>\n",
       "      <td>0</td>\n",
       "    </tr>\n",
       "    <tr>\n",
       "      <th>1</th>\n",
       "      <td>3</td>\n",
       "      <td>0</td>\n",
       "      <td>1</td>\n",
       "      <td>47.0</td>\n",
       "      <td>7.0000</td>\n",
       "      <td>1</td>\n",
       "      <td>0</td>\n",
       "      <td>0</td>\n",
       "      <td>0</td>\n",
       "      <td>0</td>\n",
       "      <td>0</td>\n",
       "      <td>0</td>\n",
       "      <td>0</td>\n",
       "      <td>0</td>\n",
       "      <td>1</td>\n",
       "      <td>0</td>\n",
       "      <td>0</td>\n",
       "      <td>1</td>\n",
       "      <td>1</td>\n",
       "      <td>1</td>\n",
       "    </tr>\n",
       "    <tr>\n",
       "      <th>2</th>\n",
       "      <td>2</td>\n",
       "      <td>1</td>\n",
       "      <td>0</td>\n",
       "      <td>62.0</td>\n",
       "      <td>9.6875</td>\n",
       "      <td>1</td>\n",
       "      <td>0</td>\n",
       "      <td>0</td>\n",
       "      <td>0</td>\n",
       "      <td>0</td>\n",
       "      <td>0</td>\n",
       "      <td>0</td>\n",
       "      <td>0</td>\n",
       "      <td>0</td>\n",
       "      <td>0</td>\n",
       "      <td>0</td>\n",
       "      <td>1</td>\n",
       "      <td>1</td>\n",
       "      <td>1</td>\n",
       "      <td>0</td>\n",
       "    </tr>\n",
       "    <tr>\n",
       "      <th>3</th>\n",
       "      <td>3</td>\n",
       "      <td>1</td>\n",
       "      <td>0</td>\n",
       "      <td>27.0</td>\n",
       "      <td>8.6625</td>\n",
       "      <td>1</td>\n",
       "      <td>0</td>\n",
       "      <td>0</td>\n",
       "      <td>0</td>\n",
       "      <td>0</td>\n",
       "      <td>0</td>\n",
       "      <td>0</td>\n",
       "      <td>0</td>\n",
       "      <td>0</td>\n",
       "      <td>1</td>\n",
       "      <td>0</td>\n",
       "      <td>0</td>\n",
       "      <td>1</td>\n",
       "      <td>1</td>\n",
       "      <td>0</td>\n",
       "    </tr>\n",
       "    <tr>\n",
       "      <th>4</th>\n",
       "      <td>3</td>\n",
       "      <td>0</td>\n",
       "      <td>1</td>\n",
       "      <td>22.0</td>\n",
       "      <td>12.2875</td>\n",
       "      <td>1</td>\n",
       "      <td>0</td>\n",
       "      <td>0</td>\n",
       "      <td>0</td>\n",
       "      <td>0</td>\n",
       "      <td>0</td>\n",
       "      <td>0</td>\n",
       "      <td>0</td>\n",
       "      <td>0</td>\n",
       "      <td>1</td>\n",
       "      <td>0</td>\n",
       "      <td>0</td>\n",
       "      <td>1</td>\n",
       "      <td>1</td>\n",
       "      <td>2</td>\n",
       "    </tr>\n",
       "  </tbody>\n",
       "</table>\n",
       "</div>"
      ],
      "text/plain": [
       "   Pclass  Sex_male  Sex_female   Age     Fare  Cabin_U  Cabin_C  Cabin_E  \\\n",
       "0       3         1           0  34.5   7.8292        1        0        0   \n",
       "1       3         0           1  47.0   7.0000        1        0        0   \n",
       "2       2         1           0  62.0   9.6875        1        0        0   \n",
       "3       3         1           0  27.0   8.6625        1        0        0   \n",
       "4       3         0           1  22.0  12.2875        1        0        0   \n",
       "\n",
       "   Cabin_G  Cabin_D  Cabin_A  Cabin_B  Cabin_F  Cabin_T  Embarked_S  \\\n",
       "0        0        0        0        0        0        0           0   \n",
       "1        0        0        0        0        0        0           1   \n",
       "2        0        0        0        0        0        0           0   \n",
       "3        0        0        0        0        0        0           1   \n",
       "4        0        0        0        0        0        0           1   \n",
       "\n",
       "   Embarked_C  Embarked_Q  Prefix_marital  Prefix_title  Family  \n",
       "0           0           1               1             1       0  \n",
       "1           0           0               1             1       1  \n",
       "2           0           1               1             1       0  \n",
       "3           0           0               1             1       0  \n",
       "4           0           0               1             1       2  "
      ]
     },
     "execution_count": 45,
     "metadata": {},
     "output_type": "execute_result"
    }
   ],
   "source": [
    "test_sub = test.copy()\n",
    "test_sub.drop(columns=['PassengerId','Name','SibSp', 'Parch','Ticket','Prefix'], inplace=True)\n",
    "test_sub = ohe.transform(test_sub)\n",
    "test_sub.head()"
   ]
  },
  {
   "cell_type": "code",
   "execution_count": 46,
   "id": "9845b92c",
   "metadata": {
    "execution": {
     "iopub.execute_input": "2022-07-28T18:36:46.586881Z",
     "iopub.status.busy": "2022-07-28T18:36:46.586223Z",
     "iopub.status.idle": "2022-07-28T18:36:46.592676Z",
     "shell.execute_reply": "2022-07-28T18:36:46.591460Z"
    },
    "papermill": {
     "duration": 0.032394,
     "end_time": "2022-07-28T18:36:46.595003",
     "exception": false,
     "start_time": "2022-07-28T18:36:46.562609",
     "status": "completed"
    },
    "tags": []
   },
   "outputs": [
    {
     "name": "stdout",
     "output_type": "stream",
     "text": [
      "(418, 17)\n",
      "(891, 17)\n"
     ]
    }
   ],
   "source": [
    "test_sub.drop(columns=['Sex_female', 'Cabin_T', 'Embarked_Q'], inplace=True)\n",
    "print(test_sub.shape)\n",
    "print(X.shape)"
   ]
  },
  {
   "cell_type": "code",
   "execution_count": 47,
   "id": "cbb9f979",
   "metadata": {
    "execution": {
     "iopub.execute_input": "2022-07-28T18:36:46.641275Z",
     "iopub.status.busy": "2022-07-28T18:36:46.640884Z",
     "iopub.status.idle": "2022-07-28T18:36:46.686789Z",
     "shell.execute_reply": "2022-07-28T18:36:46.685226Z"
    },
    "papermill": {
     "duration": 0.071863,
     "end_time": "2022-07-28T18:36:46.689197",
     "exception": false,
     "start_time": "2022-07-28T18:36:46.617334",
     "status": "completed"
    },
    "tags": []
   },
   "outputs": [
    {
     "name": "stdout",
     "output_type": "stream",
     "text": [
      "   Pclass  Sex_male       Age      Fare  Cabin_U  Cabin_C  Cabin_E  Cabin_G  \\\n",
      "0     1.0       1.0  0.271174  0.014151      1.0      0.0      0.0      0.0   \n",
      "1     0.0       0.0  0.472229  0.139136      0.0      1.0      0.0      0.0   \n",
      "2     1.0       0.0  0.321438  0.015469      1.0      0.0      0.0      0.0   \n",
      "3     0.0       0.0  0.434531  0.103644      0.0      1.0      0.0      0.0   \n",
      "4     1.0       1.0  0.434531  0.015713      1.0      0.0      0.0      0.0   \n",
      "\n",
      "   Cabin_D  Cabin_A  Cabin_B  Cabin_F  Embarked_S  Embarked_C  Prefix_marital  \\\n",
      "0      0.0      0.0      0.0      0.0         1.0         0.0             0.0   \n",
      "1      0.0      0.0      0.0      0.0         0.0         1.0             0.0   \n",
      "2      0.0      0.0      0.0      0.0         1.0         0.0             0.5   \n",
      "3      0.0      0.0      0.0      0.0         1.0         0.0             0.0   \n",
      "4      0.0      0.0      0.0      0.0         1.0         0.0             0.0   \n",
      "\n",
      "   Prefix_title  Family  \n",
      "0           0.0     0.1  \n",
      "1           0.0     0.1  \n",
      "2           0.0     0.0  \n",
      "3           0.0     0.1  \n",
      "4           0.0     0.0  \n"
     ]
    }
   ],
   "source": [
    "#encoding and scaling\n",
    "from sklearn.preprocessing import MinMaxScaler\n",
    "mms = MinMaxScaler()\n",
    "X_norm = mms.fit_transform(X)\n",
    "\n",
    "X_df = pd.DataFrame(X_norm, columns=X.columns)\n",
    "\n",
    "print(X_df.head())"
   ]
  },
  {
   "cell_type": "code",
   "execution_count": 48,
   "id": "048d39ee",
   "metadata": {
    "execution": {
     "iopub.execute_input": "2022-07-28T18:36:46.735377Z",
     "iopub.status.busy": "2022-07-28T18:36:46.734997Z",
     "iopub.status.idle": "2022-07-28T18:36:46.752699Z",
     "shell.execute_reply": "2022-07-28T18:36:46.751066Z"
    },
    "papermill": {
     "duration": 0.043855,
     "end_time": "2022-07-28T18:36:46.755147",
     "exception": false,
     "start_time": "2022-07-28T18:36:46.711292",
     "status": "completed"
    },
    "tags": []
   },
   "outputs": [
    {
     "name": "stdout",
     "output_type": "stream",
     "text": [
      "   Pclass  Sex_male       Age      Fare  Cabin_U  Cabin_C  Cabin_E  Cabin_G  \\\n",
      "0     1.0       1.0  0.428248  0.015282      1.0      0.0      0.0      0.0   \n",
      "1     1.0       0.0  0.585323  0.013663      1.0      0.0      0.0      0.0   \n",
      "2     0.5       1.0  0.773813  0.018909      1.0      0.0      0.0      0.0   \n",
      "3     1.0       1.0  0.334004  0.016908      1.0      0.0      0.0      0.0   \n",
      "4     1.0       0.0  0.271174  0.023984      1.0      0.0      0.0      0.0   \n",
      "\n",
      "   Cabin_D  Cabin_A  Cabin_B  Cabin_F  Embarked_S  Embarked_C  Prefix_marital  \\\n",
      "0      0.0      0.0      0.0      0.0         0.0         0.0             0.0   \n",
      "1      0.0      0.0      0.0      0.0         1.0         0.0             0.0   \n",
      "2      0.0      0.0      0.0      0.0         0.0         0.0             0.0   \n",
      "3      0.0      0.0      0.0      0.0         1.0         0.0             0.0   \n",
      "4      0.0      0.0      0.0      0.0         1.0         0.0             0.0   \n",
      "\n",
      "   Prefix_title  Family  \n",
      "0           0.0     0.0  \n",
      "1           0.0     0.1  \n",
      "2           0.0     0.0  \n",
      "3           0.0     0.0  \n",
      "4           0.0     0.2  \n"
     ]
    }
   ],
   "source": [
    "test_norm = mms.transform(test_sub)\n",
    "test_df = pd.DataFrame(test_norm, columns=test_sub.columns)\n",
    "print(test_df.head())"
   ]
  },
  {
   "cell_type": "code",
   "execution_count": 49,
   "id": "33da2a39",
   "metadata": {
    "execution": {
     "iopub.execute_input": "2022-07-28T18:36:46.801737Z",
     "iopub.status.busy": "2022-07-28T18:36:46.801347Z",
     "iopub.status.idle": "2022-07-28T18:36:47.054874Z",
     "shell.execute_reply": "2022-07-28T18:36:47.053767Z"
    },
    "papermill": {
     "duration": 0.279732,
     "end_time": "2022-07-28T18:36:47.057201",
     "exception": false,
     "start_time": "2022-07-28T18:36:46.777469",
     "status": "completed"
    },
    "tags": []
   },
   "outputs": [],
   "source": [
    "#modelling\n",
    "from sklearn.model_selection import train_test_split, cross_val_score, GridSearchCV, learning_curve, validation_curve\n",
    "from sklearn.metrics import accuracy_score, recall_score, ConfusionMatrixDisplay\n",
    "from sklearn.ensemble import GradientBoostingClassifier, RandomForestClassifier, AdaBoostClassifier, VotingClassifier, BaggingClassifier \n",
    "from sklearn.linear_model import LogisticRegression, RidgeClassifier\n",
    "from sklearn.neighbors import KNeighborsClassifier\n",
    "from sklearn.tree import DecisionTreeClassifier"
   ]
  },
  {
   "cell_type": "code",
   "execution_count": 50,
   "id": "7d4555bd",
   "metadata": {
    "execution": {
     "iopub.execute_input": "2022-07-28T18:36:47.105042Z",
     "iopub.status.busy": "2022-07-28T18:36:47.104092Z",
     "iopub.status.idle": "2022-07-28T18:36:47.109713Z",
     "shell.execute_reply": "2022-07-28T18:36:47.108969Z"
    },
    "papermill": {
     "duration": 0.030681,
     "end_time": "2022-07-28T18:36:47.111714",
     "exception": false,
     "start_time": "2022-07-28T18:36:47.081033",
     "status": "completed"
    },
    "tags": []
   },
   "outputs": [],
   "source": [
    "#X_train, X_test, y_train, y_test = train_test_split(X_norm, y, test_size=0.33, random_state = 11)"
   ]
  },
  {
   "cell_type": "code",
   "execution_count": 51,
   "id": "37f13bf0",
   "metadata": {
    "execution": {
     "iopub.execute_input": "2022-07-28T18:36:47.157803Z",
     "iopub.status.busy": "2022-07-28T18:36:47.157077Z",
     "iopub.status.idle": "2022-07-28T18:36:47.162007Z",
     "shell.execute_reply": "2022-07-28T18:36:47.161252Z"
    },
    "papermill": {
     "duration": 0.030336,
     "end_time": "2022-07-28T18:36:47.164068",
     "exception": false,
     "start_time": "2022-07-28T18:36:47.133732",
     "status": "completed"
    },
    "tags": []
   },
   "outputs": [],
   "source": [
    "X_full = X_norm.copy()\n",
    "y_full = y.copy()"
   ]
  },
  {
   "cell_type": "code",
   "execution_count": 52,
   "id": "25eac89b",
   "metadata": {
    "execution": {
     "iopub.execute_input": "2022-07-28T18:36:47.210766Z",
     "iopub.status.busy": "2022-07-28T18:36:47.210376Z",
     "iopub.status.idle": "2022-07-28T18:38:34.100310Z",
     "shell.execute_reply": "2022-07-28T18:38:34.098854Z"
    },
    "papermill": {
     "duration": 106.917571,
     "end_time": "2022-07-28T18:38:34.103850",
     "exception": false,
     "start_time": "2022-07-28T18:36:47.186279",
     "status": "completed"
    },
    "tags": []
   },
   "outputs": [
    {
     "name": "stdout",
     "output_type": "stream",
     "text": [
      "gb best hyperparameters: {'max_depth': 2, 'min_samples_leaf': 1, 'min_samples_split': 2, 'n_estimators': 100}\n",
      "xgb best hyperparameters: {'learning_rate': 0.1, 'max_depth': 3, 'n_estimators': 100, 'subsample': 0.5}\n",
      "rf best hyperparameters: {'max_depth': 9, 'max_features': 'sqrt', 'min_samples_leaf': 1, 'n_estimators': 500}\n",
      "ada best hyperparameters: {'learning_rate': 0.5, 'n_estimators': 75}\n",
      "bagg best hyperparameters: {'n_estimators': 50}\n",
      "ridge best hyperparameters: {'alpha': 0.1}\n",
      "knn best hyperparameters: {'metric': 'euclidean', 'n_neighbors': 7, 'weights': 'uniform'}\n"
     ]
    }
   ],
   "source": [
    "#hyperparameter tuning\n",
    "models = {}\n",
    "\n",
    "\n",
    "# Gradient Booster\n",
    "\n",
    "gb_estimator = GradientBoostingClassifier(random_state=0)\n",
    "gb_param_grid = [{'n_estimators': [100, 200],\n",
    "                          'max_depth': [1, 2],\n",
    "                          'min_samples_split': [2, 3],\n",
    "                          'min_samples_leaf': [1, 3]}]\n",
    "\n",
    "models['gb'] = {'estimator': gb_estimator,\n",
    "                        'param_grid': gb_param_grid}\n",
    "\n",
    "# Stochastic Gradient Booster\n",
    "\n",
    "xgb_estimator = GradientBoostingClassifier(random_state=0)\n",
    "xgb_param_grid = [{'n_estimators': [100, 200],\n",
    "                          'max_depth': [2, 3,],\n",
    "                          'subsample': [0.5, 0.7],\n",
    "                          'learning_rate': [0.001, 0.1]}]\n",
    "\n",
    "models['xgb'] = {'estimator': xgb_estimator,\n",
    "                        'param_grid': xgb_param_grid}\n",
    "\n",
    "# Random Forest\n",
    "\n",
    "rf_estimator = RandomForestClassifier(random_state=0)\n",
    "rf_param_grid = [{'n_estimators': [300, 500],\n",
    "                  'max_depth': [7, 9],\n",
    "                  'min_samples_leaf': [1, 2, 3],\n",
    "                          'max_features': ['sqrt', 'log2']}]\n",
    "\n",
    "models['rf'] = {'estimator': rf_estimator,\n",
    "                        'param_grid': rf_param_grid}\n",
    "\n",
    "# Ada Boost\n",
    "\n",
    "ada_estimator = AdaBoostClassifier(random_state=0)\n",
    "ada_param_grid = [{'n_estimators': [25, 50, 75],\n",
    "                   'learning_rate': [0.5, 1, 2]}]\n",
    "\n",
    "\n",
    "models['ada'] = {'estimator': ada_estimator,\n",
    "                 'param_grid': ada_param_grid}\n",
    "\n",
    "# BaggClassifier\n",
    "\n",
    "bagg_estimator = BaggingClassifier(random_state=0)\n",
    "bagg_param_grid = [{'n_estimators': [10, 25, 50]}]\n",
    "\n",
    "\n",
    "models['bagg'] = {'estimator': bagg_estimator,\n",
    "                 'param_grid': bagg_param_grid}\n",
    "\n",
    "# Ridge\n",
    "\n",
    "ridge_estimator = RidgeClassifier(random_state=0)\n",
    "ridge_param_grid = [{'alpha': [0.1, 0.3, 0.5, 0.7]}]\n",
    "\n",
    "models['ridge'] = {'estimator': ridge_estimator,\n",
    "                   'param_grid': ridge_param_grid}\n",
    "\n",
    "###########################################################\n",
    "\n",
    "#K-nearest neighbor\n",
    "\n",
    "knn_estimator = KNeighborsClassifier()\n",
    "knn_param_grid = [{'n_neighbors': [4, 5, 6, 7, 8, 9, 11, 13, 15],\n",
    "                          'weights': ['uniform', 'distance'],\n",
    "                          'metric': ['euclidean', 'manhattan', 'minkowski']}]\n",
    "\n",
    "models['knn'] = {'estimator': knn_estimator,\n",
    "                        'param_grid': knn_param_grid}\n",
    "\n",
    "tuned_models = {}\n",
    "\n",
    "for mod in models.keys():\n",
    "\n",
    "    gs = GridSearchCV(estimator=models[mod]['estimator'],\n",
    "                      param_grid=models[mod]['param_grid'],\n",
    "                      scoring='accuracy',\n",
    "                      cv=2,\n",
    "                      refit=True,\n",
    "                      n_jobs=-1)\n",
    "\n",
    "    scores = cross_val_score(gs, X_full, y_full, scoring='accuracy', cv=5)\n",
    "\n",
    "    mean_score = np.mean(scores)\n",
    "    std_score = np.std(scores)\n",
    "    #print(mod + ' score: {:.1f}% +/- {:.1f}%'.format(mean_score*100, std_score*100))\n",
    "\n",
    "    gs = gs.fit(X_full, y_full)\n",
    "    print(mod + ' best hyperparameters:', gs.best_params_)\n",
    "\n",
    "    tuned_models[mod] = {'estimator': gs.best_estimator_, \n",
    "                         'score': mean_score*100, \n",
    "                         'std': std_score*100}"
   ]
  },
  {
   "cell_type": "code",
   "execution_count": 53,
   "id": "fcbae385",
   "metadata": {
    "execution": {
     "iopub.execute_input": "2022-07-28T18:38:34.153447Z",
     "iopub.status.busy": "2022-07-28T18:38:34.152484Z",
     "iopub.status.idle": "2022-07-28T18:38:34.456443Z",
     "shell.execute_reply": "2022-07-28T18:38:34.454613Z"
    },
    "papermill": {
     "duration": 0.332264,
     "end_time": "2022-07-28T18:38:34.459605",
     "exception": false,
     "start_time": "2022-07-28T18:38:34.127341",
     "status": "completed"
    },
    "tags": []
   },
   "outputs": [
    {
     "data": {
      "text/html": [
       "<div>\n",
       "<style scoped>\n",
       "    .dataframe tbody tr th:only-of-type {\n",
       "        vertical-align: middle;\n",
       "    }\n",
       "\n",
       "    .dataframe tbody tr th {\n",
       "        vertical-align: top;\n",
       "    }\n",
       "\n",
       "    .dataframe thead th {\n",
       "        text-align: right;\n",
       "    }\n",
       "</style>\n",
       "<table border=\"1\" class=\"dataframe\">\n",
       "  <thead>\n",
       "    <tr style=\"text-align: right;\">\n",
       "      <th></th>\n",
       "      <th>estimator</th>\n",
       "      <th>score</th>\n",
       "      <th>std</th>\n",
       "    </tr>\n",
       "  </thead>\n",
       "  <tbody>\n",
       "    <tr>\n",
       "      <th>gb</th>\n",
       "      <td>([DecisionTreeRegressor(criterion='friedman_ms...</td>\n",
       "      <td>81.819095</td>\n",
       "      <td>1.678282</td>\n",
       "    </tr>\n",
       "    <tr>\n",
       "      <th>xgb</th>\n",
       "      <td>([DecisionTreeRegressor(criterion='friedman_ms...</td>\n",
       "      <td>82.380265</td>\n",
       "      <td>1.247071</td>\n",
       "    </tr>\n",
       "    <tr>\n",
       "      <th>rf</th>\n",
       "      <td>(DecisionTreeClassifier(max_depth=9, max_featu...</td>\n",
       "      <td>81.930827</td>\n",
       "      <td>1.559578</td>\n",
       "    </tr>\n",
       "    <tr>\n",
       "      <th>ada</th>\n",
       "      <td>(DecisionTreeClassifier(max_depth=1, random_st...</td>\n",
       "      <td>78.563179</td>\n",
       "      <td>1.757286</td>\n",
       "    </tr>\n",
       "    <tr>\n",
       "      <th>bagg</th>\n",
       "      <td>(DecisionTreeClassifier(random_state=208755735...</td>\n",
       "      <td>80.810997</td>\n",
       "      <td>3.340183</td>\n",
       "    </tr>\n",
       "    <tr>\n",
       "      <th>ridge</th>\n",
       "      <td>RidgeClassifier(alpha=0.1, random_state=0)</td>\n",
       "      <td>79.574415</td>\n",
       "      <td>1.022309</td>\n",
       "    </tr>\n",
       "    <tr>\n",
       "      <th>knn</th>\n",
       "      <td>KNeighborsClassifier(metric='euclidean', n_nei...</td>\n",
       "      <td>79.68803</td>\n",
       "      <td>2.263168</td>\n",
       "    </tr>\n",
       "  </tbody>\n",
       "</table>\n",
       "</div>"
      ],
      "text/plain": [
       "                                               estimator      score       std\n",
       "gb     ([DecisionTreeRegressor(criterion='friedman_ms...  81.819095  1.678282\n",
       "xgb    ([DecisionTreeRegressor(criterion='friedman_ms...  82.380265  1.247071\n",
       "rf     (DecisionTreeClassifier(max_depth=9, max_featu...  81.930827  1.559578\n",
       "ada    (DecisionTreeClassifier(max_depth=1, random_st...  78.563179  1.757286\n",
       "bagg   (DecisionTreeClassifier(random_state=208755735...  80.810997  3.340183\n",
       "ridge         RidgeClassifier(alpha=0.1, random_state=0)  79.574415  1.022309\n",
       "knn    KNeighborsClassifier(metric='euclidean', n_nei...   79.68803  2.263168"
      ]
     },
     "execution_count": 53,
     "metadata": {},
     "output_type": "execute_result"
    }
   ],
   "source": [
    "tuned_models = pd.DataFrame(tuned_models).T\n",
    "\n",
    "tuned_models"
   ]
  },
  {
   "cell_type": "code",
   "execution_count": 54,
   "id": "4b09d06b",
   "metadata": {
    "execution": {
     "iopub.execute_input": "2022-07-28T18:38:34.513033Z",
     "iopub.status.busy": "2022-07-28T18:38:34.512368Z",
     "iopub.status.idle": "2022-07-28T18:38:34.650298Z",
     "shell.execute_reply": "2022-07-28T18:38:34.649278Z"
    },
    "papermill": {
     "duration": 0.169375,
     "end_time": "2022-07-28T18:38:34.654393",
     "exception": false,
     "start_time": "2022-07-28T18:38:34.485018",
     "status": "completed"
    },
    "tags": []
   },
   "outputs": [
    {
     "data": {
      "image/png": "[encoded data removed]",
      "text/plain": [
       "<Figure size 432x288 with 1 Axes>"
      ]
     },
     "metadata": {
      "needs_background": "light"
     },
     "output_type": "display_data"
    }
   ],
   "source": [
    "plt.plot(range(1,8), tuned_models['score'], marker='o')\n",
    "plt.xticks(range(1,8),['gb','xgb','Random Forest','knn','bagg','ada','ridge'],rotation=25)\n",
    "plt.title('Accuracy of Various Models')\n",
    "plt.xlabel('Model Names')\n",
    "plt.ylabel(\"Accuracy Score\")\n",
    "plt.show()"
   ]
  },
  {
   "cell_type": "code",
   "execution_count": 55,
   "id": "da0dc1da",
   "metadata": {
    "execution": {
     "iopub.execute_input": "2022-07-28T18:38:34.709886Z",
     "iopub.status.busy": "2022-07-28T18:38:34.708642Z",
     "iopub.status.idle": "2022-07-28T18:38:34.880884Z",
     "shell.execute_reply": "2022-07-28T18:38:34.879802Z"
    },
    "papermill": {
     "duration": 0.199724,
     "end_time": "2022-07-28T18:38:34.883331",
     "exception": false,
     "start_time": "2022-07-28T18:38:34.683607",
     "status": "completed"
    },
    "tags": []
   },
   "outputs": [
    {
     "data": {
      "image/png": "[encoded data removed]",
      "text/plain": [
       "<Figure size 432x288 with 1 Axes>"
      ]
     },
     "metadata": {
      "needs_background": "light"
     },
     "output_type": "display_data"
    }
   ],
   "source": [
    "plt.plot(range(1,8), tuned_models['std'], marker='o')\n",
    "plt.xticks(range(1,8),['gb','xgb','Random Forest','knn','bagg','ada','ridge'],rotation=25)\n",
    "plt.title('Standard deviation of Various Models')\n",
    "plt.xlabel('Model Names')\n",
    "plt.ylabel(\"Standard deviation\")\n",
    "plt.show()"
   ]
  },
  {
   "cell_type": "code",
   "execution_count": 56,
   "id": "fda5af24",
   "metadata": {
    "execution": {
     "iopub.execute_input": "2022-07-28T18:38:34.933858Z",
     "iopub.status.busy": "2022-07-28T18:38:34.933484Z",
     "iopub.status.idle": "2022-07-28T18:38:39.481853Z",
     "shell.execute_reply": "2022-07-28T18:38:39.480507Z"
    },
    "papermill": {
     "duration": 4.576232,
     "end_time": "2022-07-28T18:38:39.484367",
     "exception": false,
     "start_time": "2022-07-28T18:38:34.908135",
     "status": "completed"
    },
    "tags": []
   },
   "outputs": [
    {
     "data": {
      "text/plain": [
       "VotingClassifier(estimators=[('grad_boost',\n",
       "                              GradientBoostingClassifier(max_depth=2,\n",
       "                                                         random_state=0)),\n",
       "                             ('rnd_forest',\n",
       "                              RandomForestClassifier(max_depth=9,\n",
       "                                                     max_features='sqrt',\n",
       "                                                     n_estimators=500,\n",
       "                                                     random_state=0)),\n",
       "                             ('xgb',\n",
       "                              GradientBoostingClassifier(random_state=0,\n",
       "                                                         subsample=0.5))])"
      ]
     },
     "execution_count": 56,
     "metadata": {},
     "output_type": "execute_result"
    }
   ],
   "source": [
    "# All four models\n",
    "voting_classifier_1 = VotingClassifier(estimators=[('grad_boost', tuned_models['estimator']['gb']), \n",
    "                                                 ('rnd_forest', tuned_models['estimator']['rf']),\n",
    "                                                 ('ridge', tuned_models['estimator']['ridge']),\n",
    "                                                 ('knn', tuned_models['estimator']['knn']),\n",
    "                                                 ('xgb', tuned_models['estimator']['xgb']),\n",
    "                                                 ('bagg', tuned_models['estimator']['bagg']),\n",
    "                                                 ('ada', tuned_models['estimator']['ada'])],\n",
    "                                                 voting='hard')\n",
    "voting_classifier_1.fit(X_full, y_full)\n",
    "\n",
    "# Without gb\n",
    "voting_classifier_2 = VotingClassifier(estimators=[('grad_boost', tuned_models['estimator']['gb']), \n",
    "                                                 ('rnd_forest', tuned_models['estimator']['rf']),\n",
    "                                                 ('xgb', tuned_models['estimator']['xgb']),\n",
    "                                                 ('bagg', tuned_models['estimator']['bagg'])],\n",
    "                                                 voting='hard')\n",
    "voting_classifier_2.fit(X_full, y_full)\n",
    "\n",
    "\n",
    "# Without ada\n",
    "voting_classifier_3 = VotingClassifier(estimators=[('grad_boost', tuned_models['estimator']['gb']), \n",
    "                                                 ('rnd_forest', tuned_models['estimator']['rf']),\n",
    "                                                 ('knn', tuned_models['estimator']['knn']),\n",
    "                                                 ('xgb', tuned_models['estimator']['xgb']),\n",
    "                                                 ('ada', tuned_models['estimator']['ada'])],\n",
    "                                                 voting='hard')\n",
    "voting_classifier_3.fit(X_full, y_full)\n",
    "\n",
    "#new entry\n",
    "voting_classifier_4 = VotingClassifier(estimators=[('grad_boost', tuned_models['estimator']['gb']), \n",
    "                                                 ('rnd_forest', tuned_models['estimator']['rf']),\n",
    "                                                 ('xgb', tuned_models['estimator']['xgb'])],\n",
    "                                                 voting='hard')\n",
    "voting_classifier_4.fit(X_full, y_full)"
   ]
  },
  {
   "cell_type": "code",
   "execution_count": 57,
   "id": "a7fd39f4",
   "metadata": {
    "execution": {
     "iopub.execute_input": "2022-07-28T18:38:39.544324Z",
     "iopub.status.busy": "2022-07-28T18:38:39.543105Z",
     "iopub.status.idle": "2022-07-28T18:38:57.790056Z",
     "shell.execute_reply": "2022-07-28T18:38:57.788917Z"
    },
    "papermill": {
     "duration": 18.279486,
     "end_time": "2022-07-28T18:38:57.792308",
     "exception": false,
     "start_time": "2022-07-28T18:38:39.512822",
     "status": "completed"
    },
    "tags": []
   },
   "outputs": [
    {
     "name": "stdout",
     "output_type": "stream",
     "text": [
      "1 - score: 82.7% +- 2.6%\n",
      "2 - score: 83.4% +- 3.8%\n",
      "3 - score: 83.1% +- 2.0%\n",
      "4 - score: 83.5% +- 2.9%\n"
     ]
    }
   ],
   "source": [
    "scores = cross_val_score(estimator = voting_classifier_1,\n",
    "                         X = X_full,\n",
    "                         y = y_full,\n",
    "                         cv = 8,\n",
    "                         n_jobs = -1)\n",
    "\n",
    "print(\"1 - score: {:.1f}% +- {:.1f}%\".format(np.mean(scores)*100, np.std(scores)*100))\n",
    "\n",
    "# Without Ridge\n",
    "scores = cross_val_score(estimator = voting_classifier_2,\n",
    "                         X = X_full,\n",
    "                         y = y_full,\n",
    "                         cv = 8,\n",
    "                         n_jobs = -1)\n",
    "\n",
    "print(\"2 - score: {:.1f}% +- {:.1f}%\".format(np.mean(scores)*100, np.std(scores)*100))\n",
    "\n",
    "\n",
    "# Without Logistic Regression\n",
    "scores = cross_val_score(estimator = voting_classifier_3,\n",
    "                         X = X_full,\n",
    "                         y = y_full,\n",
    "                         cv = 8,\n",
    "                         n_jobs = 2)\n",
    "\n",
    "print(\"3 - score: {:.1f}% +- {:.1f}%\".format(np.mean(scores)*100, np.std(scores)*100))\n",
    "\n",
    "# Without Logistic Regression\n",
    "scores = cross_val_score(estimator = voting_classifier_4,\n",
    "                         X = X_full,\n",
    "                         y = y_full,\n",
    "                         cv = 8,\n",
    "                         n_jobs = 2)\n",
    "\n",
    "print(\"4 - score: {:.1f}% +- {:.1f}%\".format(np.mean(scores)*100, np.std(scores)*100))"
   ]
  },
  {
   "cell_type": "code",
   "execution_count": 58,
   "id": "d34bf148",
   "metadata": {
    "execution": {
     "iopub.execute_input": "2022-07-28T18:38:57.844932Z",
     "iopub.status.busy": "2022-07-28T18:38:57.844485Z",
     "iopub.status.idle": "2022-07-28T18:38:58.566923Z",
     "shell.execute_reply": "2022-07-28T18:38:58.565823Z"
    },
    "papermill": {
     "duration": 0.751556,
     "end_time": "2022-07-28T18:38:58.569329",
     "exception": false,
     "start_time": "2022-07-28T18:38:57.817773",
     "status": "completed"
    },
    "tags": []
   },
   "outputs": [
    {
     "name": "stdout",
     "output_type": "stream",
     "text": [
      "1 - recall_score: 81.3%\n",
      "2 - recall_score: 81.9%\n",
      "3 - recall_score: 81.0%\n",
      "4 - recall_score: 81.9%\n"
     ]
    }
   ],
   "source": [
    "estimators = [voting_classifier_1, voting_classifier_2, voting_classifier_3, voting_classifier_4]\n",
    "estimator_names = ['1', '2', '3', '4']\n",
    "\n",
    "for estimator, name in zip(estimators, estimator_names):\n",
    "    print(name + ' - recall_score: {:.1f}%'.format(100*recall_score(y_true=y_full, y_pred=estimator.predict(X_full))))"
   ]
  },
  {
   "cell_type": "code",
   "execution_count": 59,
   "id": "1fdcf3d5",
   "metadata": {
    "execution": {
     "iopub.execute_input": "2022-07-28T18:38:58.620677Z",
     "iopub.status.busy": "2022-07-28T18:38:58.620035Z",
     "iopub.status.idle": "2022-07-28T18:38:58.626273Z",
     "shell.execute_reply": "2022-07-28T18:38:58.625466Z"
    },
    "papermill": {
     "duration": 0.03503,
     "end_time": "2022-07-28T18:38:58.628723",
     "exception": false,
     "start_time": "2022-07-28T18:38:58.593693",
     "status": "completed"
    },
    "tags": []
   },
   "outputs": [],
   "source": [
    "PassengerId = test['PassengerId']"
   ]
  },
  {
   "cell_type": "code",
   "execution_count": 60,
   "id": "9cb89b55",
   "metadata": {
    "execution": {
     "iopub.execute_input": "2022-07-28T18:38:58.678565Z",
     "iopub.status.busy": "2022-07-28T18:38:58.677870Z",
     "iopub.status.idle": "2022-07-28T18:38:58.684245Z",
     "shell.execute_reply": "2022-07-28T18:38:58.683225Z"
    },
    "papermill": {
     "duration": 0.033287,
     "end_time": "2022-07-28T18:38:58.686076",
     "exception": false,
     "start_time": "2022-07-28T18:38:58.652789",
     "status": "completed"
    },
    "tags": []
   },
   "outputs": [
    {
     "data": {
      "text/plain": [
       "4"
      ]
     },
     "execution_count": 60,
     "metadata": {},
     "output_type": "execute_result"
    }
   ],
   "source": [
    "2+2"
   ]
  },
  {
   "cell_type": "code",
   "execution_count": 61,
   "id": "57ba91ed",
   "metadata": {
    "execution": {
     "iopub.execute_input": "2022-07-28T18:38:58.736002Z",
     "iopub.status.busy": "2022-07-28T18:38:58.735394Z",
     "iopub.status.idle": "2022-07-28T18:38:58.831961Z",
     "shell.execute_reply": "2022-07-28T18:38:58.830802Z"
    },
    "papermill": {
     "duration": 0.124009,
     "end_time": "2022-07-28T18:38:58.834140",
     "exception": false,
     "start_time": "2022-07-28T18:38:58.710131",
     "status": "completed"
    },
    "tags": []
   },
   "outputs": [
    {
     "data": {
      "text/plain": [
       "4"
      ]
     },
     "execution_count": 61,
     "metadata": {},
     "output_type": "execute_result"
    }
   ],
   "source": [
    "y_final = voting_classifier_4.predict(test_norm)\n",
    "\n",
    "test_survived = pd.Series(y_final, name=\"Survived\")\n",
    "\n",
    "results = pd.concat([PassengerId,test_survived],axis=1)\n",
    "\n",
    "results.to_csv('fifth_kj_sub.csv', index=False)\n",
    "2+2"
   ]
  },
  {
   "cell_type": "code",
   "execution_count": 62,
   "id": "74b44ef8",
   "metadata": {
    "execution": {
     "iopub.execute_input": "2022-07-28T18:38:58.885638Z",
     "iopub.status.busy": "2022-07-28T18:38:58.884894Z",
     "iopub.status.idle": "2022-07-28T18:38:58.888517Z",
     "shell.execute_reply": "2022-07-28T18:38:58.887823Z"
    },
    "papermill": {
     "duration": 0.031739,
     "end_time": "2022-07-28T18:38:58.890469",
     "exception": false,
     "start_time": "2022-07-28T18:38:58.858730",
     "status": "completed"
    },
    "tags": []
   },
   "outputs": [],
   "source": [
    "#Survived = test_df['Survived']\n",
    "#PassengerId = test['PassengerId']\n",
    "#titanic_submission = pd.concat([PassengerId, Survived], axis=1)\n",
    "#titanic_submission.head()"
   ]
  },
  {
   "cell_type": "code",
   "execution_count": 63,
   "id": "02680da2",
   "metadata": {
    "execution": {
     "iopub.execute_input": "2022-07-28T18:38:58.942795Z",
     "iopub.status.busy": "2022-07-28T18:38:58.942122Z",
     "iopub.status.idle": "2022-07-28T18:38:58.945562Z",
     "shell.execute_reply": "2022-07-28T18:38:58.944872Z"
    },
    "papermill": {
     "duration": 0.031995,
     "end_time": "2022-07-28T18:38:58.947519",
     "exception": false,
     "start_time": "2022-07-28T18:38:58.915524",
     "status": "completed"
    },
    "tags": []
   },
   "outputs": [],
   "source": [
    "#titanic_submission1 = pd.DataFrame({'PassengerId': PassengerId, 'Survived': Survived})\n",
    "#titanic_submission1.to_csv('first_kj_sub.csv', index=False)"
   ]
  },
  {
   "cell_type": "code",
   "execution_count": null,
   "id": "857a181e",
   "metadata": {
    "papermill": {
     "duration": 0.024389,
     "end_time": "2022-07-28T18:38:58.997301",
     "exception": false,
     "start_time": "2022-07-28T18:38:58.972912",
     "status": "completed"
    },
    "tags": []
   },
   "outputs": [],
   "source": []
  }
 ],
 "metadata": {
  "kernelspec": {
   "display_name": "Python 3",
   "language": "python",
   "name": "python3"
  },
  "language_info": {
   "codemirror_mode": {
    "name": "ipython",
    "version": 3
   },
   "file_extension": ".py",
   "mimetype": "text/x-python",
   "name": "python",
   "nbconvert_exporter": "python",
   "pygments_lexer": "ipython3",
   "version": "3.7.12"
  },
  "papermill": {
   "default_parameters": {},
   "duration": 151.765847,
   "end_time": "2022-07-28T18:39:01.643882",
   "environment_variables": {},
   "exception": null,
   "input_path": "__notebook__.ipynb",
   "output_path": "__notebook__.ipynb",
   "parameters": {},
   "start_time": "2022-07-28T18:36:29.878035",
   "version": "2.3.4"
  }
 },
 "nbformat": 4,
 "nbformat_minor": 5
}
